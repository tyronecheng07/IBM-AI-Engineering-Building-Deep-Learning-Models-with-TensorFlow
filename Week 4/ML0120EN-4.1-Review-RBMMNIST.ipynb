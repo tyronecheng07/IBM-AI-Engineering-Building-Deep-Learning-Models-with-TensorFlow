{
 "cells": [
  {
   "cell_type": "markdown",
   "metadata": {},
   "source": [
    "<a href=\"https://www.skills.network/\"><img src=\"https://cf-courses-data.s3.us.cloud-object-storage.appdomain.cloud/IBM-DL0120ENedX/labs/Template%20for%20Instructional%20Hands-on%20Labs/images/IDSNlogo.png\" width=\"400px\" align=\"center\"></a>\n",
    "\n",
    "<h1 align=\"center\"><font size=\"5\">RESTRICTED BOLTZMANN MACHINES</font></h1>\n"
   ]
  },
  {
   "cell_type": "markdown",
   "metadata": {},
   "source": [
    "<h3>Introduction</h3>\n",
    "<b>Restricted Boltzmann Machine (RBM):</b>  RBMs are shallow neural nets that learn to reconstruct data by themselves in an unsupervised fashion.  \n",
    "\n",
    "<h4>Why are RBMs important?</h4>\n",
    "An RBM are a basic form of autoencoder.  It can automatically extract <b>meaningful</b> features from a given input.\n",
    "\n",
    "<h4>How does it work?</h4>\n",
    "RBM is a 2 layer neural network. Simply, RBM takes the inputs and translates those into a set of binary values that represents them in the hidden layer. Then, these numbers can be translated back to reconstruct the inputs. Through several forward and backward passes, the RBM will be trained, and a trained RBM can reveal which features are the most important ones when detecting patterns.   \n",
    "\n",
    "<h4>What are the applications of an RBM?</h4>\n",
    "RBM is useful for <a href='http://www.cs.utoronto.ca/~hinton/absps/netflixICML.pdf'>  Collaborative Filtering</a>, dimensionality reduction, classification, regression, feature learning, topic modeling and even <b>Deep Belief Networks</b>.\n",
    "\n",
    "<h4>Is RBM a generative or Discriminative model?</h4>\n",
    "RBM is a generative model. Let me explain it by first, see what is different between discriminative and generative models: \n",
    "\n",
    "<b>Discriminative:</b> Consider a classification problem where we want to learn to distinguish between Sedan cars (y = 1) and SUV cars (y = 0), based on some features of cars. Given a training set, an algorithm like logistic regression tries to find a straight line, or <i>decision boundary</i>, that separates the suv and sedan.  \n",
    "\n",
    "<b>Generative:</b> looking at cars, we can build a model of what Sedan cars look like. Then, looking at SUVs, we can build a separate model of what SUV cars look like. Finally, to classify a new car, we can match the new car against the Sedan model, and match it against the SUV model, to see whether the new car looks more like the SUV or Sedan. \n",
    "\n",
    "Generative Models specify a probability distribution over a dataset of input vectors. We can carry out both supervised and unsupervised tasks with generative models:\n",
    "\n",
    "<ul>\n",
    "    <li>In an unsupervised task, we try to form a model for $P(x)$, where $P$ is the probability given $x$ as an input vector.</li>\n",
    "    <li>In the supervised task, we first form a model for $P(x|y)$, where $P$ is the probability of $x$ given $y$(the label for $x$). For example, if $y = 0$ indicates that a car is an SUV, and $y = 1$ indicates that a car is a sedan, then $p(x|y = 0)$ models the distribution of SUV features, and $p(x|y = 1)$ models the distribution of sedan features. If we manage to find $P(x|y)$ and $P(y)$, then we can use <b>Bayes rule</b> to estimate $P(y|x)$, because:   \n",
    "        $$p(y|x) = \\frac{p(x|y)p(y)}{p(x)}$$</li>\n",
    "</ul>\n",
    "Now the question is, can we build a generative model, and then use it to create synthetic data by directly sampling from the modeled probability distributions? Lets see. \n"
   ]
  },
  {
   "cell_type": "markdown",
   "metadata": {},
   "source": [
    "<h2>Table of Contents</h2>\n",
    "<ol>\n",
    "    <li><a href=\"#ref1\">Initialization</a></li>\n",
    "    <li><a href=\"#ref2\">RBM layers</a></li>\n",
    "    <li><a href=\"#ref3\">What RBM can do after training?</a></li>\n",
    "    <li><a href=\"#ref4\">How to train the model?</a></li>\n",
    "    <li><a href=\"#ref5\">Learned features</a></li>\n",
    "</ol>\n",
    "<p></p>\n",
    "</div>\n",
    "<br>\n",
    "\n",
    "<hr>\n"
   ]
  },
  {
   "cell_type": "markdown",
   "metadata": {},
   "source": [
    "<a id=\"ref1\"></a>\n",
    "\n",
    "<h3>Initialization</h3>\n",
    "\n",
    "First, we have to load the utility file which contains different utility functions that are not connected\n",
    "in any way to the networks presented in the tutorials, but rather help in\n",
    "processing the outputs into a more understandable way.\n"
   ]
  },
  {
   "cell_type": "code",
   "execution_count": 1,
   "metadata": {},
   "outputs": [],
   "source": [
    "import urllib.request\n",
    "with urllib.request.urlopen(\"http://deeplearning.net/tutorial/code/utils.py\") as url:\n",
    "    response = url.read()\n",
    "target = open('utils.py', 'w')\n",
    "target.write(response.decode('utf-8'))\n",
    "target.close()"
   ]
  },
  {
   "cell_type": "markdown",
   "metadata": {},
   "source": [
    "<h2>Installing TensorFlow </h2>\n",
    "\n",
    "We will installing TensorFlow version 2.2.0 and its required prerequistes.  Also installing pillow...\n"
   ]
  },
  {
   "cell_type": "code",
   "execution_count": 2,
   "metadata": {},
   "outputs": [
    {
     "name": "stdout",
     "output_type": "stream",
     "text": [
      "Collecting grpcio==1.24.3\n",
      "\u001b[?25l  Downloading https://files.pythonhosted.org/packages/30/54/c9810421e41ec0bca2228c6f06b1b1189b196b69533cbcac9f71b44727f8/grpcio-1.24.3-cp36-cp36m-manylinux2010_x86_64.whl (2.2MB)\n",
      "\u001b[K     |████████████████████████████████| 2.2MB 6.4MB/s eta 0:00:01     |███▍                            | 235kB 6.4MB/s eta 0:00:01     |█████████▍                      | 645kB 6.4MB/s eta 0:00:01     |█████████████████▉              | 1.2MB 6.4MB/s eta 0:00:01     |███████████████████████████     | 1.9MB 6.4MB/s eta 0:00:01\n",
      "\u001b[?25hRequirement already satisfied: six>=1.5.2 in /home/jupyterlab/conda/envs/python/lib/python3.6/site-packages (from grpcio==1.24.3) (1.15.0)\n",
      "Installing collected packages: grpcio\n",
      "  Found existing installation: grpcio 1.31.0\n",
      "    Uninstalling grpcio-1.31.0:\n",
      "      Successfully uninstalled grpcio-1.31.0\n",
      "Successfully installed grpcio-1.24.3\n",
      "Collecting tensorflow==2.2.0\n",
      "\u001b[?25l  Downloading https://files.pythonhosted.org/packages/3d/be/679ce5254a8c8d07470efb4a4c00345fae91f766e64f1c2aece8796d7218/tensorflow-2.2.0-cp36-cp36m-manylinux2010_x86_64.whl (516.2MB)\n",
      "\u001b[K     |████████████████████████████████| 516.2MB 33kB/s  eta 0:00:013  |                                | 542kB 8.5MB/s eta 0:01:01     |█▌                              | 24.5MB 6.9MB/s eta 0:01:12     |█▋                              | 26.6MB 6.9MB/s eta 0:01:11     |█▊                              | 28.6MB 6.9MB/s eta 0:01:11     |██▋                             | 41.5MB 6.9MB/s eta 0:01:10     |██▋                             | 42.2MB 6.9MB/s eta 0:01:10     |██▊                             | 44.1MB 6.9MB/s eta 0:01:09     |████                            | 62.9MB 6.2MB/s eta 0:01:14     |████▏                           | 66.7MB 6.2MB/s eta 0:01:13     |█████▉                          | 94.3MB 7.0MB/s eta 0:01:01           | 103.8MB 6.1MB/s eta 0:01:08     |██████▊                         | 109.1MB 6.1MB/s eta 0:01:07     |███████                         | 111.9MB 2.7MB/s eta 0:02:308     |███████▍                        | 119.3MB 2.7MB/s eta 0:02:27     |████████                        | 128.0MB 5.5MB/s eta 0:01:12     |█████████                       | 144.8MB 7.0MB/s eta 0:00:53     |█████████                       | 145.5MB 7.0MB/s eta 0:00:53     |█████████                       | 146.4MB 7.0MB/s eta 0:00:53     |█████████                       | 146.9MB 7.0MB/s eta 0:00:5353                 | 167.2MB 5.3MB/s eta 0:01:06     |███████████▏                    | 179.4MB 6.5MB/s eta 0:00:52     |███████████▍                    | 183.1MB 6.5MB/s eta 0:00:52    |███████████▌                    | 185.7MB 6.5MB/s eta 0:00:51     |████████████▏                   | 197.0MB 5.4MB/s eta 0:01:00     |█████████████▉                  | 223.9MB 5.4MB/s eta 0:00:55     |██████████████                  | 226.6MB 5.4MB/s eta 0:00:54 5.5MB/s eta 0:00:53 5.5MB/s eta 0:00:52     |██████████████▊                 | 237.3MB 5.5MB/s eta 0:00:51/s eta 0:00:07     |█████████████████               | 273.9MB 39.2MB/s eta 0:00:07��█▊              | 285.1MB 39.2MB/s eta 0:00:06     |██████████████████              | 289.5MB 39.2MB/s eta 0:00:06     |██████████████████▍             | 296.7MB 5.3MB/s eta 0:00:42     |████████████████████▍           | 329.6MB 564kB/s eta 0:05:31��██▌           | 330.7MB 39.2MB/s eta 0:00:05��██▊           | 333.7MB 39.2MB/s eta 0:00:05     |████████████████████████▊       | 399.2MB 40.3MB/s eta 0:00:03     |█████████████████████████▎      | 408.0MB 5.6MB/s eta 0:00:20     |█████████████████████████▎      | 408.6MB 5.6MB/s eta 0:00:20     |█████████████████████████▍      | 409.3MB 5.6MB/s eta 0:00:20     |█████████████████████████▋      | 413.6MB 5.6MB/s eta 0:00:19     |██████████████████████████▌     | 427.6MB 5.2MB/s eta 0:00:18     |███████████████████████████     | 435.0MB 5.2MB/s eta 0:00:16     |███████████████████████████▏    | 437.6MB 5.9MB/s eta 0:00:14     |███████████████████████████▏    | 438.2MB 5.9MB/s eta 0:00:14     |███████████████████████████▍    | 440.9MB 5.9MB/s eta 0:00:13     |███████████████████████████▍    | 441.5MB 5.9MB/s eta 0:00:13     |███████████████████████████▍    | 442.0MB 5.9MB/s eta 0:00:13     |███████████████████████████▋    | 446.2MB 5.9MB/s eta 0:00:12     |███████████████████████████▊    | 446.6MB 3.0MB/s eta 0:00:23��█████████▎   | 455.5MB 3.0MB/s eta 0:00:21��█████████▉   | 464.5MB 5.4MB/s eta 0:00:10��████████████████████▍  | 474.6MB 6.9MB/s eta 0:00:07     |██████████████████████████████  | 484.5MB 5.5MB/s eta 0:00:06    |██████████████████████████████▏ | 487.4MB 5.3MB/s eta 0:00:06    |██████████████████████████████▌ | 491.1MB 5.3MB/s eta 0:00:058.5MB 5.4MB/s eta 0:00:02\n",
      "\u001b[?25hCollecting google-pasta>=0.1.8 (from tensorflow==2.2.0)\n",
      "\u001b[?25l  Downloading https://files.pythonhosted.org/packages/a3/de/c648ef6835192e6e2cc03f40b19eeda4382c49b5bafb43d88b931c4c74ac/google_pasta-0.2.0-py3-none-any.whl (57kB)\n",
      "\u001b[K     |████████████████████████████████| 61kB 20.6MB/s eta 0:00:01\n",
      "\u001b[?25hRequirement already satisfied: protobuf>=3.8.0 in /home/jupyterlab/conda/envs/python/lib/python3.6/site-packages (from tensorflow==2.2.0) (3.13.0)\n",
      "Collecting tensorflow-estimator<2.3.0,>=2.2.0 (from tensorflow==2.2.0)\n",
      "\u001b[?25l  Downloading https://files.pythonhosted.org/packages/a4/f5/926ae53d6a226ec0fda5208e0e581cffed895ccc89e36ba76a8e60895b78/tensorflow_estimator-2.2.0-py2.py3-none-any.whl (454kB)\n",
      "\u001b[K     |████████████████████████████████| 460kB 9.2MB/s eta 0:00:01\n",
      "\u001b[?25hRequirement already satisfied: six>=1.12.0 in /home/jupyterlab/conda/envs/python/lib/python3.6/site-packages (from tensorflow==2.2.0) (1.15.0)\n",
      "Collecting scipy==1.4.1; python_version >= \"3\" (from tensorflow==2.2.0)\n",
      "\u001b[?25l  Downloading https://files.pythonhosted.org/packages/dc/29/162476fd44203116e7980cfbd9352eef9db37c49445d1fec35509022f6aa/scipy-1.4.1-cp36-cp36m-manylinux1_x86_64.whl (26.1MB)\n",
      "\u001b[K     |████████████████████████████████| 26.1MB 461kB/s eta 0:00:01████████████████▍         | 18.3MB 5.3MB/s eta 0:00:02��▋       | 20.0MB 5.3MB/s eta 0:00:02██████████████████▏     | 21.3MB 5.3MB/s eta 0:00:01     |███████████████████████████▍    | 22.3MB 5.3MB/s eta 0:00:01��████▋   | 23.3MB 5.3MB/s eta 0:00:01\n",
      "\u001b[?25hRequirement already satisfied: absl-py>=0.7.0 in /home/jupyterlab/conda/envs/python/lib/python3.6/site-packages (from tensorflow==2.2.0) (0.10.0)\n",
      "Requirement already satisfied: termcolor>=1.1.0 in /home/jupyterlab/conda/envs/python/lib/python3.6/site-packages (from tensorflow==2.2.0) (1.1.0)\n",
      "Collecting gast==0.3.3 (from tensorflow==2.2.0)\n",
      "  Downloading https://files.pythonhosted.org/packages/d6/84/759f5dd23fec8ba71952d97bcc7e2c9d7d63bdc582421f3cd4be845f0c98/gast-0.3.3-py2.py3-none-any.whl\n",
      "Collecting wrapt>=1.11.1 (from tensorflow==2.2.0)\n",
      "  Using cached https://files.pythonhosted.org/packages/82/f7/e43cefbe88c5fd371f4cf0cf5eb3feccd07515af9fd6cf7dbf1d1793a797/wrapt-1.12.1.tar.gz\n",
      "Collecting h5py<2.11.0,>=2.10.0 (from tensorflow==2.2.0)\n",
      "\u001b[?25l  Downloading https://files.pythonhosted.org/packages/60/06/cafdd44889200e5438b897388f3075b52a8ef01f28a17366d91de0fa2d05/h5py-2.10.0-cp36-cp36m-manylinux1_x86_64.whl (2.9MB)\n",
      "\u001b[K     |████████████████████████████████| 2.9MB 3.0MB/s eta 0:00:01\n",
      "\u001b[?25hRequirement already satisfied: grpcio>=1.8.6 in /home/jupyterlab/conda/envs/python/lib/python3.6/site-packages (from tensorflow==2.2.0) (1.24.3)\n",
      "Collecting tensorboard<2.3.0,>=2.2.0 (from tensorflow==2.2.0)\n",
      "\u001b[?25l  Downloading https://files.pythonhosted.org/packages/1d/74/0a6fcb206dcc72a6da9a62dd81784bfdbff5fedb099982861dc2219014fb/tensorboard-2.2.2-py3-none-any.whl (3.0MB)\n",
      "\u001b[K     |████████████████████████████████| 3.0MB 37.1MB/s eta 0:00:01\n",
      "\u001b[?25hCollecting keras-preprocessing>=1.1.0 (from tensorflow==2.2.0)\n",
      "\u001b[?25l  Downloading https://files.pythonhosted.org/packages/79/4c/7c3275a01e12ef9368a892926ab932b33bb13d55794881e3573482b378a7/Keras_Preprocessing-1.1.2-py2.py3-none-any.whl (42kB)\n",
      "\u001b[K     |████████████████████████████████| 51kB 18.8MB/s eta 0:00:01\n",
      "\u001b[?25hRequirement already satisfied: numpy<2.0,>=1.16.0 in /home/jupyterlab/conda/envs/python/lib/python3.6/site-packages (from tensorflow==2.2.0) (1.19.2)\n",
      "Collecting opt-einsum>=2.3.2 (from tensorflow==2.2.0)\n",
      "\u001b[?25l  Downloading https://files.pythonhosted.org/packages/bc/19/404708a7e54ad2798907210462fd950c3442ea51acc8790f3da48d2bee8b/opt_einsum-3.3.0-py3-none-any.whl (65kB)\n",
      "\u001b[K     |████████████████████████████████| 71kB 5.2MB/s eta 0:00:011\n",
      "\u001b[?25hRequirement already satisfied: wheel>=0.26; python_version >= \"3\" in /home/jupyterlab/conda/envs/python/lib/python3.6/site-packages (from tensorflow==2.2.0) (0.35.1)\n",
      "Collecting astunparse==1.6.3 (from tensorflow==2.2.0)\n",
      "  Downloading https://files.pythonhosted.org/packages/2b/03/13dde6512ad7b4557eb792fbcf0c653af6076b81e5941d36ec61f7ce6028/astunparse-1.6.3-py2.py3-none-any.whl\n",
      "Requirement already satisfied: setuptools in /home/jupyterlab/conda/envs/python/lib/python3.6/site-packages (from protobuf>=3.8.0->tensorflow==2.2.0) (49.6.0.post20201009)\n",
      "Requirement already satisfied: werkzeug>=0.11.15 in /home/jupyterlab/conda/envs/python/lib/python3.6/site-packages (from tensorboard<2.3.0,>=2.2.0->tensorflow==2.2.0) (1.0.1)\n",
      "Requirement already satisfied: requests<3,>=2.21.0 in /home/jupyterlab/conda/envs/python/lib/python3.6/site-packages (from tensorboard<2.3.0,>=2.2.0->tensorflow==2.2.0) (2.24.0)\n",
      "Collecting google-auth-oauthlib<0.5,>=0.4.1 (from tensorboard<2.3.0,>=2.2.0->tensorflow==2.2.0)\n",
      "  Downloading https://files.pythonhosted.org/packages/81/67/e2c34bb0628984c7ce71cce6ba6964cb29c418873847fc285f826e032e6e/google_auth_oauthlib-0.4.2-py2.py3-none-any.whl\n",
      "Collecting google-auth<2,>=1.6.3 (from tensorboard<2.3.0,>=2.2.0->tensorflow==2.2.0)\n",
      "\u001b[?25l  Downloading https://files.pythonhosted.org/packages/1d/60/81e68e70eea91ef05bb00bcdac243d67b61f826c65aaca6961de622dffd7/google_auth-1.23.0-py2.py3-none-any.whl (114kB)\n",
      "\u001b[K     |████████████████████████████████| 122kB 35.0MB/s eta 0:00:01\n",
      "\u001b[?25hCollecting tensorboard-plugin-wit>=1.6.0 (from tensorboard<2.3.0,>=2.2.0->tensorflow==2.2.0)\n",
      "\u001b[?25l  Downloading https://files.pythonhosted.org/packages/b6/85/5c5ac0a8c5efdfab916e9c6bc18963f6a6996a8a1e19ec4ad8c9ac9c623c/tensorboard_plugin_wit-1.7.0-py3-none-any.whl (779kB)\n",
      "\u001b[K     |████████████████████████████████| 788kB 8.8MB/s eta 0:00:01\n",
      "\u001b[?25hRequirement already satisfied: markdown>=2.6.8 in /home/jupyterlab/conda/envs/python/lib/python3.6/site-packages (from tensorboard<2.3.0,>=2.2.0->tensorflow==2.2.0) (3.3.3)\n",
      "Requirement already satisfied: idna<3,>=2.5 in /home/jupyterlab/conda/envs/python/lib/python3.6/site-packages (from requests<3,>=2.21.0->tensorboard<2.3.0,>=2.2.0->tensorflow==2.2.0) (2.10)\n",
      "Requirement already satisfied: certifi>=2017.4.17 in /home/jupyterlab/conda/envs/python/lib/python3.6/site-packages (from requests<3,>=2.21.0->tensorboard<2.3.0,>=2.2.0->tensorflow==2.2.0) (2020.6.20)\n",
      "Requirement already satisfied: urllib3!=1.25.0,!=1.25.1,<1.26,>=1.21.1 in /home/jupyterlab/conda/envs/python/lib/python3.6/site-packages (from requests<3,>=2.21.0->tensorboard<2.3.0,>=2.2.0->tensorflow==2.2.0) (1.25.11)\n",
      "Requirement already satisfied: chardet<4,>=3.0.2 in /home/jupyterlab/conda/envs/python/lib/python3.6/site-packages (from requests<3,>=2.21.0->tensorboard<2.3.0,>=2.2.0->tensorflow==2.2.0) (3.0.4)\n",
      "Collecting requests-oauthlib>=0.7.0 (from google-auth-oauthlib<0.5,>=0.4.1->tensorboard<2.3.0,>=2.2.0->tensorflow==2.2.0)\n",
      "  Using cached https://files.pythonhosted.org/packages/a3/12/b92740d845ab62ea4edf04d2f4164d82532b5a0b03836d4d4e71c6f3d379/requests_oauthlib-1.3.0-py2.py3-none-any.whl\n",
      "Collecting cachetools<5.0,>=2.0.0 (from google-auth<2,>=1.6.3->tensorboard<2.3.0,>=2.2.0->tensorflow==2.2.0)\n",
      "  Using cached https://files.pythonhosted.org/packages/cd/5c/f3aa86b6d5482f3051b433c7616668a9b96fbe49a622210e2c9781938a5c/cachetools-4.1.1-py3-none-any.whl\n",
      "Requirement already satisfied: pyasn1-modules>=0.2.1 in /home/jupyterlab/conda/envs/python/lib/python3.6/site-packages (from google-auth<2,>=1.6.3->tensorboard<2.3.0,>=2.2.0->tensorflow==2.2.0) (0.2.8)\n",
      "Collecting rsa<5,>=3.1.4; python_version >= \"3.5\" (from google-auth<2,>=1.6.3->tensorboard<2.3.0,>=2.2.0->tensorflow==2.2.0)\n",
      "  Using cached https://files.pythonhosted.org/packages/1c/df/c3587a667d6b308fadc90b99e8bc8774788d033efcc70f4ecaae7fad144b/rsa-4.6-py3-none-any.whl\n",
      "Requirement already satisfied: importlib-metadata; python_version < \"3.8\" in /home/jupyterlab/conda/envs/python/lib/python3.6/site-packages (from markdown>=2.6.8->tensorboard<2.3.0,>=2.2.0->tensorflow==2.2.0) (2.0.0)\n",
      "Collecting oauthlib>=3.0.0 (from requests-oauthlib>=0.7.0->google-auth-oauthlib<0.5,>=0.4.1->tensorboard<2.3.0,>=2.2.0->tensorflow==2.2.0)\n",
      "\u001b[?25l  Downloading https://files.pythonhosted.org/packages/05/57/ce2e7a8fa7c0afb54a0581b14a65b56e62b5759dbc98e80627142b8a3704/oauthlib-3.1.0-py2.py3-none-any.whl (147kB)\n",
      "\u001b[K     |████████████████████████████████| 153kB 35.7MB/s eta 0:00:01\n",
      "\u001b[?25hRequirement already satisfied: pyasn1<0.5.0,>=0.4.6 in /home/jupyterlab/conda/envs/python/lib/python3.6/site-packages (from pyasn1-modules>=0.2.1->google-auth<2,>=1.6.3->tensorboard<2.3.0,>=2.2.0->tensorflow==2.2.0) (0.4.8)\n",
      "Requirement already satisfied: zipp>=0.5 in /home/jupyterlab/conda/envs/python/lib/python3.6/site-packages (from importlib-metadata; python_version < \"3.8\"->markdown>=2.6.8->tensorboard<2.3.0,>=2.2.0->tensorflow==2.2.0) (3.4.0)\n",
      "Building wheels for collected packages: wrapt\n",
      "  Building wheel for wrapt (setup.py) ... \u001b[?25ldone\n",
      "\u001b[?25h  Stored in directory: /home/jupyterlab/.cache/pip/wheels/b1/c2/ed/d62208260edbd3fa7156545c00ef966f45f2063d0a84f8208a\n",
      "Successfully built wrapt\n",
      "Installing collected packages: google-pasta, tensorflow-estimator, scipy, gast, wrapt, h5py, oauthlib, requests-oauthlib, cachetools, rsa, google-auth, google-auth-oauthlib, tensorboard-plugin-wit, tensorboard, keras-preprocessing, opt-einsum, astunparse, tensorflow\n",
      "  Found existing installation: scipy 1.5.3\n",
      "    Uninstalling scipy-1.5.3:\n",
      "      Successfully uninstalled scipy-1.5.3\n",
      "  Found existing installation: gast 0.4.0\n",
      "    Uninstalling gast-0.4.0:\n",
      "      Successfully uninstalled gast-0.4.0\n",
      "  Found existing installation: h5py 2.8.0\n",
      "    Uninstalling h5py-2.8.0:\n",
      "      Successfully uninstalled h5py-2.8.0\n",
      "  Found existing installation: tensorboard 1.8.0\n",
      "    Uninstalling tensorboard-1.8.0:\n",
      "      Successfully uninstalled tensorboard-1.8.0\n",
      "  Found existing installation: tensorflow 1.8.0\n",
      "    Uninstalling tensorflow-1.8.0:\n",
      "      Successfully uninstalled tensorflow-1.8.0\n",
      "Successfully installed astunparse-1.6.3 cachetools-4.1.1 gast-0.3.3 google-auth-1.23.0 google-auth-oauthlib-0.4.2 google-pasta-0.2.0 h5py-2.10.0 keras-preprocessing-1.1.2 oauthlib-3.1.0 opt-einsum-3.3.0 requests-oauthlib-1.3.0 rsa-4.6 scipy-1.4.1 tensorboard-2.2.2 tensorboard-plugin-wit-1.7.0 tensorflow-2.2.0 tensorflow-estimator-2.2.0 wrapt-1.12.1\n",
      "Requirement already satisfied: pillow in /home/jupyterlab/conda/envs/python/lib/python3.6/site-packages (8.0.1)\n"
     ]
    }
   ],
   "source": [
    "!pip install grpcio==1.24.3\n",
    "!pip install tensorflow==2.2.0\n",
    "!pip install pillow"
   ]
  },
  {
   "cell_type": "markdown",
   "metadata": {},
   "source": [
    "<b>Notice:</b> This notebook has been created with TensorFlow version 2.2, and might not work with other versions. Therefore we check:\n"
   ]
  },
  {
   "cell_type": "code",
   "execution_count": 3,
   "metadata": {},
   "outputs": [],
   "source": [
    "import tensorflow as tf\n",
    "from IPython.display import Markdown, display\n",
    "\n",
    "def printmd(string):\n",
    "    display(Markdown('# <span style=\"color:red\">'+string+'</span>'))\n",
    "\n",
    "\n",
    "if not tf.__version__ == '2.2.0':\n",
    "    printmd('<<<<<!!!!! ERROR !!!! please upgrade to TensorFlow 2.2.0, or restart your Kernel (Kernel->Restart & Clear Output)>>>>>')"
   ]
  },
  {
   "cell_type": "markdown",
   "metadata": {},
   "source": [
    "Now, we load in all the packages that we use to create the net including the TensorFlow package:\n"
   ]
  },
  {
   "cell_type": "code",
   "execution_count": 4,
   "metadata": {},
   "outputs": [],
   "source": [
    "import tensorflow as tf\n",
    "import numpy as np\n",
    "\n",
    "from PIL import Image\n",
    "from utils import tile_raster_images\n",
    "import matplotlib.pyplot as plt\n",
    "%matplotlib inline"
   ]
  },
  {
   "cell_type": "markdown",
   "metadata": {},
   "source": [
    "<hr>\n"
   ]
  },
  {
   "cell_type": "markdown",
   "metadata": {},
   "source": [
    "<a id=\"ref2\"></a>\n",
    "\n",
    "<h3>RBM layers</h3>\n",
    "\n",
    "An RBM has two layers. The first layer of the RBM is called the <b>visible</b> (or input layer). Imagine that our toy example, has only vectors with 7 values, so the visible layer must have $V=7$ input nodes. \n",
    "The second layer is the <b>hidden</b> layer, which has $H$ neurons in our case. Each hidden node takes on values of either 0 or 1 (i.e., $h_i = 1$ or $h_i$ = 0), with a probability that is a logistic function of the inputs it receives from the other $V$ visible units, called for example, $p(h_i = 1)$. For our toy sample, we'll use 2 nodes in the hidden layer, so $H = 2$.\n",
    "\n",
    "<center><img src=\"https://ibm.box.com/shared/static/eu26opvcefgls6vnwuo29uwp0nudmokh.png\" alt=\"RBM Model\" style=\"width: 400px;\"></center>\n"
   ]
  },
  {
   "cell_type": "markdown",
   "metadata": {},
   "source": [
    "Each node in the first layer also has a <b>bias</b>. We will denote the bias as $v\\_{bias}$, and this single value is shared among the $V$ visible units.\n",
    "\n",
    "The <b>bias</b> of the second is defined similarly as $h\\_{bias}$, and this single value among the $H$ hidden units.\n"
   ]
  },
  {
   "cell_type": "code",
   "execution_count": 5,
   "metadata": {},
   "outputs": [],
   "source": [
    "v_bias = tf.Variable(tf.zeros([7]), tf.float32)\n",
    "h_bias = tf.Variable(tf.zeros([2]), tf.float32)"
   ]
  },
  {
   "cell_type": "markdown",
   "metadata": {},
   "source": [
    "We have to define weights among the input layer and hidden layer nodes. In the weight matrix, the number of rows are equal to the input nodes, and the number of columns are equal to the output nodes. We define a tensor $\\\\mathbf{W}$ of shape = (7,2), where the number of visible neurons = 7, and the number of hidden neurons = 2. \n"
   ]
  },
  {
   "cell_type": "code",
   "execution_count": 6,
   "metadata": {},
   "outputs": [],
   "source": [
    "W = tf.constant(np.random.normal(loc=0.0, scale=1.0, size=(7, 2)).astype(np.float32))"
   ]
  },
  {
   "cell_type": "markdown",
   "metadata": {},
   "source": [
    "<hr>\n"
   ]
  },
  {
   "cell_type": "markdown",
   "metadata": {},
   "source": [
    "<a id=\"ref3\"></a>\n",
    "\n",
    "<h3>What RBM can do after training?</h3>\n",
    "Think of RBM as a model that has been trained based on images of a dataset of many SUV and sedan cars. Also, imagine that the RBM network has only two hidden nodes, where one node encodes the weight and, and the other encodes the size.  \n",
    "In a sense, the different configurations represent different cars, where one is an SUV and the other is Sedan.  In a training process, through many forward and backward passes, the RBM adjust its weights to send a stronger signal to either the SUV node (0, 1) or the sedan node (1, 0) in the hidden layer, given the pixels of images. Now, given an SUV in hidden layer, which distribution of pixels should we expect? RBM can give you 2 things. First, it encodes your images in hidden layer. Second, it gives you the probability of observing a case, given some hidden values.\n",
    "\n",
    "<h3>The Inference Process</h3>\n",
    "\n",
    "RBM has two phases:\n",
    "\n",
    "<ul>\n",
    "    <li>Forward Pass</li>  \n",
    "    <li>Backward Pass or Reconstruction</li>\n",
    "</ul>\n",
    "\n",
    "<b>Phase 1) Forward pass:</b>  \n",
    "\n",
    "Input one training sample (one image) $\\\\mathbf{x}$ through all visible nodes, and pass it to all hidden nodes. Processing happens in each node in the hidden layer. This computation begins by making stochastic decisions about whether to transmit that input or not (i.e. to determine the state of each hidden layer).  First, the probability vector is computed using the input feature vector $\\\\mathbf{x}$, the weight matrix $\\\\mathbf{W}$, and the bias term $h\\_{bias}$, as \n",
    "\n",
    "$p({h_j}|\\\\mathbf x)= \\\\sigma(\\\\sum_{i=1}^V W_{ij} x_i + h_{bias} )$, \n",
    "\n",
    "where $\\\\sigma(z) = (1+e^{-z})^{-1}$ is the logistic function.\n",
    "\n",
    "So, what does $p({h_j})$ represent? It is the <b>probability distribution</b> of the hidden units. That is, RBM uses inputs $x_i$ to make predictions about hidden node activations. For example, imagine that the hidden node activation values are [0.51 0.84] for the first training item. It tells you that the conditional probability for each hidden neuron for Phase 1 is: \n",
    "\n",
    "$$p(h_{1} = 1|\\\\mathbf{v}) = 0.51$$\n",
    "$$p(h_{2} = 1|\\\\mathbf{v}) = 0.84$$\n",
    "\n",
    "As a result, for each row in the training set, vector of probabilities is generated.  In TensorFlow, this is referred to as a `tensor` with a shape of (1,2). \n",
    "\n",
    "We then turn unit $j$ with probability $p(h_{j}|\\\\mathbf{v})$, and turn it off with probability $1 - p(h_{j}|\\\\mathbf{v})$ by generating a uniform random number vector $\\\\mathbf{\\\\xi}$, and comparing it to the activation probability as \n",
    "\n",
    "<center>If $\\xi_j>p(h_{j}|\\mathbf{v})$, then $h_j=1$, else $h_j=0$.</center>\n",
    "\n",
    "Therefore, the conditional probability of a configuration of $\\\\mathbf{h}$ given $\\\\mathbf{v}$ (for a training sample) is:\n",
    "\n",
    "$$p(\\\\mathbf{h} \\\\mid \\\\mathbf{v}) = \\\\prod\\_{j=1}^H p(h_j \\\\mid \\\\mathbf{v})$$\n",
    "\n",
    "where $H$ is the number of hidden units.\n"
   ]
  },
  {
   "cell_type": "markdown",
   "metadata": {},
   "source": [
    "Before we go further, let's look at a toy example for one case out of all input. Assume that we have a trained RBM, and a very simple input vector, such as [1.0, 0.0, 0.0, 1.0, 0.0, 0.0, 0.0].  \n",
    "Let's see what the output of forward pass would look like:\n"
   ]
  },
  {
   "cell_type": "code",
   "execution_count": 7,
   "metadata": {},
   "outputs": [
    {
     "name": "stdout",
     "output_type": "stream",
     "text": [
      "Input:  tf.Tensor([[1. 0. 0. 1. 0. 0. 0.]], shape=(1, 7), dtype=float32)\n",
      "hb:  tf.Tensor([0.1 0.1], shape=(2,), dtype=float32)\n",
      "w:  tf.Tensor(\n",
      "[[ 0.726747   -0.19547386]\n",
      " [ 0.2968449   0.6711723 ]\n",
      " [-2.4448583  -1.4805396 ]\n",
      " [-0.61354005 -1.3476142 ]\n",
      " [-0.58040196 -0.9329734 ]\n",
      " [-1.0921993   1.46289   ]\n",
      " [-1.3803139  -1.8361903 ]], shape=(7, 2), dtype=float32)\n",
      "p(h|v):  tf.Tensor([[0.55310076 0.19106759]], shape=(1, 2), dtype=float32)\n",
      "h0 states: tf.Tensor([[0. 0.]], shape=(1, 2), dtype=float32)\n"
     ]
    }
   ],
   "source": [
    "X = tf.constant([[1.0, 0.0, 0.0, 1.0, 0.0, 0.0, 0.0]], tf.float32)\n",
    "\n",
    "v_state = X\n",
    "print (\"Input: \", v_state)\n",
    "\n",
    "h_bias = tf.constant([0.1, 0.1])\n",
    "print (\"hb: \", h_bias)\n",
    "print (\"w: \", W)\n",
    "\n",
    "# Calculate the probabilities of turning the hidden units on:\n",
    "h_prob = tf.nn.sigmoid(tf.matmul(v_state, W) + h_bias)  #probabilities of the hidden units\n",
    "print (\"p(h|v): \", h_prob)\n",
    "\n",
    "# Draw samples from the distribution:\n",
    "h_state = tf.nn.relu(tf.sign(h_prob - tf.random.uniform(tf.shape(h_prob)))) #states\n",
    "print (\"h0 states:\", h_state)"
   ]
  },
  {
   "cell_type": "markdown",
   "metadata": {},
   "source": [
    "<b>Phase 2) Backward Pass (Reconstruction):</b>\n",
    "The RBM reconstructs data by making several forward and backward passes between the visible and hidden layers.\n",
    "\n",
    "So, in the second phase (i.e. reconstruction phase), the samples from the hidden layer (i.e. $\\\\mathbf h$) becomes the input in the backward pass. The same weight matrix and visible layer biases are used to passed to the sigmoid function. The reproduced output is a reconstruction which is an approximation of the original input.\n"
   ]
  },
  {
   "cell_type": "code",
   "execution_count": 8,
   "metadata": {},
   "outputs": [
    {
     "name": "stdout",
     "output_type": "stream",
     "text": [
      "b:  tf.Tensor([0.1 0.2 0.1 0.1 0.1 0.2 0.1], shape=(7,), dtype=float32)\n",
      "p(vi∣h):  tf.Tensor(\n",
      "[[0.5249792  0.54983395 0.5249792  0.5249792  0.5249792  0.54983395\n",
      "  0.5249792 ]], shape=(1, 7), dtype=float32)\n",
      "v probability states:  tf.Tensor([[0. 1. 1. 0. 0. 0. 0.]], shape=(1, 7), dtype=float32)\n"
     ]
    }
   ],
   "source": [
    "vb = tf.constant([0.1, 0.2, 0.1, 0.1, 0.1, 0.2, 0.1])\n",
    "print (\"b: \", vb)\n",
    "v_prob = tf.nn.sigmoid(tf.matmul(h_state, tf.transpose(W)) + vb)\n",
    "print (\"p(vi∣h): \", v_prob)\n",
    "v_state = tf.nn.relu(tf.sign(v_prob - tf.random.uniform(tf.shape(v_prob))))\n",
    "print (\"v probability states: \", v_state)"
   ]
  },
  {
   "cell_type": "markdown",
   "metadata": {},
   "source": [
    "RBM learns a probability distribution over the input, and then, after being trained, the RBM can generate new samples from the learned probability distribution. As you know, <b>probability distribution</b>, is a mathematical function that provides the probabilities of occurrence of different possible outcomes in an experiment.\n",
    "\n",
    "The (conditional) probability distribution over the visible units v is given by\n",
    "\n",
    "$p(\\\\mathbf{v} \\\\mid \\\\mathbf{h}) = \\\\prod\\_{i=1}^V p(v_i \\\\mid \\\\mathbf{h}),$\n",
    "\n",
    "where,\n",
    "\n",
    "$p(v_i \\\\mid \\\\mathbf{h}) = \\\\sigma\\\\left(\\\\sum_{j=1}^H W_{ji} h_j + v_{bias} \\\\right)$\n",
    "\n",
    "so, given current state of hidden units and weights, what is the probability of generating [1. 0. 0. 1. 0. 0. 0.] in reconstruction phase, based on the above <b>probability distribution</b> function?\n"
   ]
  },
  {
   "cell_type": "code",
   "execution_count": 9,
   "metadata": {},
   "outputs": [
    {
     "name": "stdout",
     "output_type": "stream",
     "text": [
      "input X: [[1. 0. 0. 1. 0. 0. 0.]]\n",
      "probablity vector: [0.5249792  0.54983395 0.5249792  0.5249792  0.5249792  0.54983395\n",
      " 0.5249792 ]\n",
      "probability of generating X:  0.0059864256\n"
     ]
    }
   ],
   "source": [
    "inp = X\n",
    "print(\"input X:\" , inp.numpy())\n",
    "\n",
    "print(\"probablity vector:\" , v_prob[0].numpy())\n",
    "v_probability = 1\n",
    "\n",
    "for elm, p in zip(inp[0],v_prob[0]) :\n",
    "    if elm ==1:\n",
    "        v_probability *= p\n",
    "    else:\n",
    "        v_probability *= (1-p)\n",
    "\n",
    "print(\"probability of generating X: \" , v_probability.numpy())"
   ]
  },
  {
   "cell_type": "markdown",
   "metadata": {},
   "source": [
    "How similar are vectors $\\\\mathbf{x}$ and $\\\\mathbf{v}$? Of course, the reconstructed values most likely will not look anything like the input vector, because our network has not been trained yet. Our objective is to train the model in such a way that the input vector and reconstructed vector to be same. Therefore, based on how different the input values look to the ones that we just reconstructed, the weights are adjusted. \n"
   ]
  },
  {
   "cell_type": "markdown",
   "metadata": {},
   "source": [
    "<hr>\n"
   ]
  },
  {
   "cell_type": "markdown",
   "metadata": {},
   "source": [
    "<h2>MNIST</h2>\n"
   ]
  },
  {
   "cell_type": "markdown",
   "metadata": {},
   "source": [
    "We will be using the MNIST dataset to practice the usage of RBMs. The following cell loads the MNIST dataset.\n"
   ]
  },
  {
   "cell_type": "code",
   "execution_count": 10,
   "metadata": {},
   "outputs": [
    {
     "name": "stdout",
     "output_type": "stream",
     "text": [
      "Downloading data from https://storage.googleapis.com/tensorflow/tf-keras-datasets/mnist.npz\n",
      "11493376/11490434 [==============================] - 0s 0us/step\n"
     ]
    }
   ],
   "source": [
    "#loading training and test data\n",
    "mnist = tf.keras.datasets.mnist\n",
    "(trX, trY), (teX, teY) = mnist.load_data()\n",
    "\n",
    "# showing an example of the Flatten class and operation\n",
    "from tensorflow.keras.layers import Flatten\n",
    "flatten = Flatten(dtype='float32')\n",
    "trX = flatten(trX/255.0)\n",
    "trY = flatten(trY/255.0)"
   ]
  },
  {
   "cell_type": "markdown",
   "metadata": {},
   "source": [
    "Lets look at the dimension of the images.\n"
   ]
  },
  {
   "cell_type": "markdown",
   "metadata": {},
   "source": [
    "MNIST images have 784 pixels, so the visible layer must have 784 input nodes.  For our case, we'll use 50 nodes in the hidden layer, so i = 50.\n"
   ]
  },
  {
   "cell_type": "code",
   "execution_count": 11,
   "metadata": {},
   "outputs": [],
   "source": [
    "vb = tf.Variable(tf.zeros([784]), tf.float32)\n",
    "hb = tf.Variable(tf.zeros([50]), tf.float32)"
   ]
  },
  {
   "cell_type": "markdown",
   "metadata": {},
   "source": [
    "Let $\\\\mathbf W$ be the Tensor of 784x50 (784 - number of visible neurons, 50 - number of hidden neurons) that represents weights between the neurons. \n"
   ]
  },
  {
   "cell_type": "code",
   "execution_count": 12,
   "metadata": {},
   "outputs": [],
   "source": [
    "W = tf.Variable(tf.zeros([784,50]), tf.float32)"
   ]
  },
  {
   "cell_type": "markdown",
   "metadata": {},
   "source": [
    "Lets define the visible layer:\n"
   ]
  },
  {
   "cell_type": "code",
   "execution_count": 13,
   "metadata": {},
   "outputs": [
    {
     "data": {
      "text/plain": [
       "<tf.Tensor: shape=(1, 50), dtype=float32, numpy=\n",
       "array([[0., 0., 0., 0., 0., 0., 0., 0., 0., 0., 0., 0., 0., 0., 0., 0.,\n",
       "        0., 0., 0., 0., 0., 0., 0., 0., 0., 0., 0., 0., 0., 0., 0., 0.,\n",
       "        0., 0., 0., 0., 0., 0., 0., 0., 0., 0., 0., 0., 0., 0., 0., 0.,\n",
       "        0., 0.]], dtype=float32)>"
      ]
     },
     "execution_count": 13,
     "metadata": {},
     "output_type": "execute_result"
    }
   ],
   "source": [
    "v0_state = tf.Variable(tf.zeros([784]), tf.float32)\n",
    "\n",
    "#testing to see if the matrix product works\n",
    "tf.matmul( [v0_state], W)"
   ]
  },
  {
   "cell_type": "markdown",
   "metadata": {},
   "source": [
    "Now, we can define hidden layer:\n"
   ]
  },
  {
   "cell_type": "code",
   "execution_count": 14,
   "metadata": {},
   "outputs": [
    {
     "name": "stdout",
     "output_type": "stream",
     "text": [
      "h0_state shape:  tf.Tensor([ 1 50], shape=(2,), dtype=int32)\n",
      "first 15 hidden states:  tf.Tensor([0. 0. 0. 1. 0. 1. 1. 0. 0. 0. 1. 0. 0. 1. 1.], shape=(15,), dtype=float32)\n"
     ]
    }
   ],
   "source": [
    "#computing the hidden nodes probability vector and checking shape\n",
    "h0_prob = tf.nn.sigmoid(tf.matmul([v0_state], W) + hb)  #probabilities of the hidden units\n",
    "print(\"h0_state shape: \" , tf.shape(h0_prob))\n",
    "\n",
    "#defining a function to return only the generated hidden states \n",
    "def hidden_layer(v0_state, W, hb):\n",
    "    h0_prob = tf.nn.sigmoid(tf.matmul([v0_state], W) + hb)  #probabilities of the hidden units\n",
    "    h0_state = tf.nn.relu(tf.sign(h0_prob - tf.random.uniform(tf.shape(h0_prob)))) #sample_h_given_X\n",
    "    return h0_state\n",
    "\n",
    "\n",
    "h0_state = hidden_layer(v0_state, W, hb)\n",
    "print(\"first 15 hidden states: \", h0_state[0][0:15])"
   ]
  },
  {
   "cell_type": "markdown",
   "metadata": {},
   "source": [
    "Now, we define reconstruction part:\n"
   ]
  },
  {
   "cell_type": "code",
   "execution_count": 15,
   "metadata": {},
   "outputs": [
    {
     "name": "stdout",
     "output_type": "stream",
     "text": [
      "hidden state shape:  (1, 50)\n",
      "v0 state shape:   (784,)\n",
      "v1 state shape:   (784,)\n"
     ]
    }
   ],
   "source": [
    "def reconstructed_output(h0_state, W, vb):\n",
    "    v1_prob = tf.nn.sigmoid(tf.matmul(h0_state, tf.transpose(W)) + vb) \n",
    "    v1_state = tf.nn.relu(tf.sign(v1_prob - tf.random.uniform(tf.shape(v1_prob)))) #sample_v_given_h\n",
    "    return v1_state[0]\n",
    "\n",
    "v1_state = reconstructed_output(h0_state, W, vb)\n",
    "print(\"hidden state shape: \", h0_state.shape)\n",
    "print(\"v0 state shape:  \", v0_state.shape)\n",
    "print(\"v1 state shape:  \", v1_state.shape)"
   ]
  },
  {
   "cell_type": "markdown",
   "metadata": {},
   "source": [
    "<h3>What is the objective function?</h3>\n",
    "\n",
    "<b>Goal</b>: Maximize the likelihood of our data being drawn from that distribution\n",
    "\n",
    "<b>Calculate error:</b>  \n",
    "In each epoch, we compute the \"error\" as a sum of the squared difference between step 1 and step n,\n",
    "e.g the error shows the difference between the data and its reconstruction.\n",
    "\n",
    "<b>Note:</b> tf.reduce_mean computes the mean of elements across dimensions of a tensor.\n"
   ]
  },
  {
   "cell_type": "code",
   "execution_count": 16,
   "metadata": {},
   "outputs": [
    {
     "name": "stdout",
     "output_type": "stream",
     "text": [
      "error 0.46938777\n"
     ]
    }
   ],
   "source": [
    "def error(v0_state, v1_state):\n",
    "    return tf.reduce_mean(tf.square(v0_state - v1_state))\n",
    "\n",
    "err = tf.reduce_mean(tf.square(v0_state - v1_state))\n",
    "print(\"error\" , err.numpy())"
   ]
  },
  {
   "cell_type": "markdown",
   "metadata": {},
   "source": [
    "<a id=\"ref4\"></a>\n",
    "\n",
    "<h3>Training the Model</h3>\n",
    "<b>Warning...</b> The following part is math-heavy, but you can skip it if you just want to run the cells in the next section.\n",
    "\n",
    "As mentioned, we want to give a high probability to the input data we train on. So, in order to train an RBM, we have to maximize the product of probabilities assigned to all rows $\\\\mathbf{v}$ (images) in the training set $\\\\mathbf{V}$ (a matrix, where each row of it is treated as a visible vector $\\\\mathbf{v}$)\n",
    "\n",
    "$$\\\\arg\\\\max_W\\\\prod_{\\\\mathbf{v}\\\\in\\\\mathbf{V}\\_T}p(\\\\mathbf{v}),$$\n",
    "\n",
    "which is equivalent to maximizing the expectation of the log probability, given as\n",
    "\n",
    "$$\\\\arg\\\\max_W\\\\left\\[ \\\\mathbb{E} \\\\left(\\\\prod_{\\\\mathbf v\\\\in \\\\mathbf V}\\\\text{log} \\\\left(p(\\\\mathbf v)\\\\right) \\\\right) \\\\right].$$\n",
    "\n",
    "So, we have to update the weights $W\\_{ij}$  to increase $p(\\\\mathbf{v})$ for all $\\\\mathbf{v}$ in our training data during training. So we have to calculate the derivative:\n",
    "\n",
    "$$\\\\frac{\\\\partial \\\\log p(\\\\mathbf v)}{\\\\partial W\\_{ij}}$$\n",
    "\n",
    "This cannot be easily done by typical <b>gradient descent (SGD)</b>, so we can use another approach, which has 2 steps:\n",
    "\n",
    "<ol>\n",
    "    <li>Gibbs Sampling</li>\n",
    "    <li>Contrastive Divergence</li>\n",
    "</ol>    \n",
    "    \n",
    "<h3>Gibbs Sampling</h3>   \n",
    "\n",
    "<h4>Gibbs Sampling Step 1</h4> \n",
    "Given an input vector $\\mathbf{v}$, we are using $p(\\mathbf{h}|\\mathbf{v})$ to predict the hidden values $\\mathbf{h}$. \n",
    "  $$p({h_j}|\\mathbf v)= \\sigma\\left(\\sum_{i=1}^V W_{ij} v_i + h_{bias} \\right)$$\n",
    "The samples are generated from this distribution by generating the uniform random variate vector $\\mathbf{\\xi} \\sim U[0,1]$ of length $H$ and comparing to the computed probabilities as\n",
    "\n",
    "<center>If $\\xi_j>p(h_{j}|\\mathbf{v})$, then $h_j=1$, else $h_j=0$.</center>\n",
    "\n",
    "<h4>Gibbs Sampling Step 2</h4> \n",
    "Then, knowing the hidden values, we use $p(\\mathbf v| \\mathbf h)$ for reconstructing of new input values v. \n",
    "\n",
    "   $$p({v_i}|\\\\mathbf h)= \\\\sigma\\\\left(\\\\sum_{j=1}^H W^{T}_{ij} h_j + v_{bias} \\\\right)$$\n",
    "\n",
    "The samples are generated from this distribution by generating a uniform random variate vector $\\\\mathbf{\\\\xi} \\\\sim U[0,1]$ of length $V$ and comparing to the computed probabilities as\n",
    "\n",
    "<center>If $\\xi_i>p(v_{i}|\\mathbf{h})$, then $v_i=1$, else $v_i=0$.</center>\n",
    "\n",
    "Let vectors $\\\\mathbf v_k$ and $\\\\mathbf h_k$ be for the $k$th iteration.  In general, the $kth$ state is generrated as: \n",
    "\n",
    "<b>Iteration</b> $k$: \n",
    "\n",
    "$$\\\\mathbf v_{k-1} \\\\Rightarrow p(\\\\mathbf h_{k-1}|\\\\mathbf v_{k-1})\\\\Rightarrow \\\\mathbf h_{k-1}\\\\Rightarrow p(\\\\mathbf v_{k}|\\\\mathbf h_{k-1})\\\\Rightarrow \\\\mathbf v_k$$       \n",
    "\n",
    "<h3>Contrastive Divergence (CD-k)</h3>\n",
    "The update of the weight matrix is done during the Contrastive Divergence step. \n",
    "\n",
    "Vectors v0 and vk are used to calculate the activation probabilities for hidden values h0 and hk. The difference between the outer products of those probabilities with input vectors v0 and vk results in the update matrix:\n",
    "\n",
    "$\\\\Delta \\\\mathbf W_k =\\\\mathbf v_k \\\\otimes \\\\mathbf h_k - \\\\mathbf v_{k-1} \\\\otimes \\\\mathbf h\\_{k-1}$ \n",
    "\n",
    "Contrastive Divergence is actually matrix of values that is computed and used to adjust values of the $\\\\mathbf W$ matrix. Changing $\\\\mathbf W$ incrementally leads to training of the  $\\\\mathbf W$ values. Then, on each step (epoch), $\\\\mathbf W$ is updated using the following:\n",
    "\n",
    "$\\\\mathbf W_k = \\\\mathbf W_{k-1} + \\\\alpha \\* \\\\Delta \\\\mathbf W_k$ \n",
    "\n",
    "Reconstruction steps:\n",
    "\n",
    "<ul>\n",
    "    <li> Get one data point from data set, like <i>x</i>, and pass it through the following steps:</li>\n",
    "    \n",
    "<b>Iteration</b> $k=1$: \n",
    "    \n",
    "Sampling (starting with input image)\n",
    "    $$\\mathbf x = \\mathbf v_0 \\Rightarrow p(\\mathbf h_0|\\mathbf v_0)\\Rightarrow \\mathbf h_0 \\Rightarrow p(\\mathbf v_1|\\mathbf h_0)\\Rightarrow \\mathbf v_1$$   \n",
    "    followed by the CD-k step\n",
    "$$\\Delta \\mathbf W_1 =\\mathbf v_1 \\otimes \\mathbf h_1 - \\mathbf v_{0} \\otimes \\mathbf h_{0}$$     \n",
    "$$\\mathbf W_1 = \\mathbf W_{0} + \\alpha * \\Delta \\mathbf W_1$$ \n",
    " \n",
    "<li> $\\mathbf v_1$ is the reconstruction of $\\mathbf x$ sent to the next iteration).</li>\n",
    "\n",
    "<b>Iteration</b> $k=2$: \n",
    "\n",
    "Sampling (starting with $\\\\mathbf v_1$)\n",
    "\n",
    "$$\\\\mathbf v_1 \\\\Rightarrow p(\\\\mathbf h_1|\\\\mathbf v_1)\\\\Rightarrow \\\\mathbf h_1\\\\Rightarrow p(\\\\mathbf v_2|\\\\mathbf h_1)\\\\Rightarrow \\\\mathbf v_2$$   \n",
    "\n",
    "followed by the CD-k step\n",
    "$$\\\\Delta \\\\mathbf W_2 =\\\\mathbf v_2 \\\\otimes \\\\mathbf h_2 - \\\\mathbf v_{1} \\\\otimes \\\\mathbf h_{1}$$  \n",
    "$$\\\\mathbf W_2 = \\\\mathbf W_{1} + \\\\alpha \\* \\\\Delta \\\\mathbf W_2$$ \n",
    "\n",
    "<li> $\\mathbf v_2$ is the reconstruction of $\\mathbf v_1$ sent to the next iteration).</li>    \n",
    "      \n",
    "<b>Iteration</b> $k=K$:\n",
    "    \n",
    "Sampling (starting with $\\mathbf v_{K-1}$)\n",
    "\n",
    "$$\\\\mathbf v_{K-1} \\\\Rightarrow p(\\\\mathbf h_{K-1}|\\\\mathbf v_{K-1})\\\\Rightarrow \\\\mathbf h_{K-1}\\\\Rightarrow p(\\\\mathbf v_K|\\\\mathbf h_{K-1})\\\\Rightarrow \\\\mathbf v_K$$   \n",
    "\n",
    "followed by the CD-k step\n",
    "$$\\\\Delta \\\\mathbf W_K =\\\\mathbf v_K \\\\otimes \\\\mathbf h_K - \\\\mathbf v_{K-1} \\\\otimes \\\\mathbf h_{K-1}$$  \n",
    "$$\\\\mathbf W_K = \\\\mathbf W_{K-1} + \\\\alpha \\* \\\\Delta \\\\mathbf W_K$$ \n",
    "\n",
    "<b>What is $\\\\alpha$?</b>  \n",
    "Here, alpha is some small step size, and is also known as the \"learning rate\".\n"
   ]
  },
  {
   "cell_type": "markdown",
   "metadata": {},
   "source": [
    "$K$ is adjustable, and good performance can be achieved with $K=1$, so that we just take one set of sampling steps per image.\n"
   ]
  },
  {
   "cell_type": "code",
   "execution_count": 17,
   "metadata": {},
   "outputs": [],
   "source": [
    "h1_prob = tf.nn.sigmoid(tf.matmul([v1_state], W) + hb)\n",
    "h1_state = tf.nn.relu(tf.sign(h1_prob - tf.random.uniform(tf.shape(h1_prob)))) #sample_h_given_X"
   ]
  },
  {
   "cell_type": "markdown",
   "metadata": {},
   "source": [
    "Lets look at the error of the first run:\n"
   ]
  },
  {
   "cell_type": "code",
   "execution_count": 18,
   "metadata": {},
   "outputs": [
    {
     "name": "stdout",
     "output_type": "stream",
     "text": [
      "error:  tf.Tensor(0.46938777, shape=(), dtype=float32)\n"
     ]
    }
   ],
   "source": [
    "print(\"error: \", error(v0_state, v1_state))"
   ]
  },
  {
   "cell_type": "code",
   "execution_count": 27,
   "metadata": {},
   "outputs": [
    {
     "name": "stdout",
     "output_type": "stream",
     "text": [
      "Epoch: 0 batch #: 1  of 200 sample #: 199 reconstruction error: 0.140904\n",
      "Epoch: 0 batch #: 2  of 200 sample #: 199 reconstruction error: 0.174973\n",
      "Epoch: 0 batch #: 3  of 200 sample #: 199 reconstruction error: 0.097340\n",
      "Epoch: 0 batch #: 4  of 200 sample #: 199 reconstruction error: 0.125121\n",
      "Epoch: 0 batch #: 5  of 200 sample #: 199 reconstruction error: 0.099032\n",
      "Epoch: 0 batch #: 6  of 200 sample #: 199 reconstruction error: 0.159758\n",
      "Epoch: 0 batch #: 7  of 200 sample #: 199 reconstruction error: 0.097562\n",
      "Epoch: 0 batch #: 8  of 200 sample #: 199 reconstruction error: 0.110570\n",
      "Epoch: 0 batch #: 9  of 200 sample #: 199 reconstruction error: 0.087742\n",
      "Epoch: 0 batch #: 10  of 200 sample #: 199 reconstruction error: 0.173235\n",
      "Epoch: 0 batch #: 11  of 200 sample #: 199 reconstruction error: 0.103536\n",
      "Epoch: 0 batch #: 12  of 200 sample #: 199 reconstruction error: 0.145484\n",
      "Epoch: 0 batch #: 13  of 200 sample #: 199 reconstruction error: 0.060037\n",
      "Epoch: 0 batch #: 14  of 200 sample #: 199 reconstruction error: 0.102527\n",
      "Epoch: 0 batch #: 15  of 200 sample #: 199 reconstruction error: 0.118333\n",
      "Epoch: 0 batch #: 16  of 200 sample #: 199 reconstruction error: 0.115255\n",
      "Epoch: 0 batch #: 17  of 200 sample #: 199 reconstruction error: 0.065734\n",
      "Epoch: 0 batch #: 18  of 200 sample #: 199 reconstruction error: 0.132945\n",
      "Epoch: 0 batch #: 19  of 200 sample #: 199 reconstruction error: 0.137590\n",
      "Epoch: 0 batch #: 20  of 200 sample #: 199 reconstruction error: 0.115852\n",
      "Epoch: 0 batch #: 21  of 200 sample #: 199 reconstruction error: 0.097722\n",
      "Epoch: 0 batch #: 22  of 200 sample #: 199 reconstruction error: 0.080315\n",
      "Epoch: 0 batch #: 23  of 200 sample #: 199 reconstruction error: 0.108829\n",
      "Epoch: 0 batch #: 24  of 200 sample #: 199 reconstruction error: 0.120707\n",
      "Epoch: 0 batch #: 25  of 200 sample #: 199 reconstruction error: 0.103681\n",
      "Epoch: 0 batch #: 26  of 200 sample #: 199 reconstruction error: 0.105004\n",
      "Epoch: 0 batch #: 27  of 200 sample #: 199 reconstruction error: 0.097419\n",
      "Epoch: 0 batch #: 28  of 200 sample #: 199 reconstruction error: 0.096160\n",
      "Epoch: 0 batch #: 29  of 200 sample #: 199 reconstruction error: 0.103052\n",
      "Epoch: 0 batch #: 30  of 200 sample #: 199 reconstruction error: 0.081620\n",
      "Epoch: 0 batch #: 31  of 200 sample #: 199 reconstruction error: 0.087097\n",
      "Epoch: 0 batch #: 32  of 200 sample #: 199 reconstruction error: 0.140267\n",
      "Epoch: 0 batch #: 33  of 200 sample #: 199 reconstruction error: 0.060363\n",
      "Epoch: 0 batch #: 34  of 200 sample #: 199 reconstruction error: 0.055297\n",
      "Epoch: 0 batch #: 35  of 200 sample #: 199 reconstruction error: 0.071119\n",
      "Epoch: 0 batch #: 36  of 200 sample #: 199 reconstruction error: 0.084139\n",
      "Epoch: 0 batch #: 37  of 200 sample #: 199 reconstruction error: 0.054235\n",
      "Epoch: 0 batch #: 38  of 200 sample #: 199 reconstruction error: 0.070338\n",
      "Epoch: 0 batch #: 39  of 200 sample #: 199 reconstruction error: 0.087065\n",
      "Epoch: 0 batch #: 40  of 200 sample #: 199 reconstruction error: 0.104586\n",
      "Epoch: 0 batch #: 41  of 200 sample #: 199 reconstruction error: 0.070610\n",
      "Epoch: 0 batch #: 42  of 200 sample #: 199 reconstruction error: 0.076164\n",
      "Epoch: 0 batch #: 43  of 200 sample #: 199 reconstruction error: 0.108002\n",
      "Epoch: 0 batch #: 44  of 200 sample #: 199 reconstruction error: 0.069024\n",
      "Epoch: 0 batch #: 45  of 200 sample #: 199 reconstruction error: 0.068560\n",
      "Epoch: 0 batch #: 46  of 200 sample #: 199 reconstruction error: 0.044166\n",
      "Epoch: 0 batch #: 47  of 200 sample #: 199 reconstruction error: 0.036344\n",
      "Epoch: 0 batch #: 48  of 200 sample #: 199 reconstruction error: 0.030247\n",
      "Epoch: 0 batch #: 49  of 200 sample #: 199 reconstruction error: 0.131926\n",
      "Epoch: 0 batch #: 50  of 200 sample #: 199 reconstruction error: 0.057836\n",
      "Epoch: 0 batch #: 51  of 200 sample #: 199 reconstruction error: 0.063781\n",
      "Epoch: 0 batch #: 52  of 200 sample #: 199 reconstruction error: 0.038977\n",
      "Epoch: 0 batch #: 53  of 200 sample #: 199 reconstruction error: 0.090501\n",
      "Epoch: 0 batch #: 54  of 200 sample #: 199 reconstruction error: 0.051259\n",
      "Epoch: 0 batch #: 55  of 200 sample #: 199 reconstruction error: 0.117738\n",
      "Epoch: 0 batch #: 56  of 200 sample #: 199 reconstruction error: 0.058201\n",
      "Epoch: 0 batch #: 57  of 200 sample #: 199 reconstruction error: 0.052586\n",
      "Epoch: 0 batch #: 58  of 200 sample #: 199 reconstruction error: 0.056030\n",
      "Epoch: 0 batch #: 59  of 200 sample #: 199 reconstruction error: 0.058992\n",
      "Epoch: 0 batch #: 60  of 200 sample #: 199 reconstruction error: 0.093204\n",
      "Epoch: 0 batch #: 61  of 200 sample #: 199 reconstruction error: 0.083913\n",
      "Epoch: 0 batch #: 62  of 200 sample #: 199 reconstruction error: 0.074101\n",
      "Epoch: 0 batch #: 63  of 200 sample #: 199 reconstruction error: 0.044987\n",
      "Epoch: 0 batch #: 64  of 200 sample #: 199 reconstruction error: 0.080265\n",
      "Epoch: 0 batch #: 65  of 200 sample #: 199 reconstruction error: 0.089306\n",
      "Epoch: 0 batch #: 66  of 200 sample #: 199 reconstruction error: 0.056239\n",
      "Epoch: 0 batch #: 67  of 200 sample #: 199 reconstruction error: 0.041602\n",
      "Epoch: 0 batch #: 68  of 200 sample #: 199 reconstruction error: 0.055390\n",
      "Epoch: 0 batch #: 69  of 200 sample #: 199 reconstruction error: 0.072728\n",
      "Epoch: 0 batch #: 70  of 200 sample #: 199 reconstruction error: 0.096218\n",
      "Epoch: 0 batch #: 71  of 200 sample #: 199 reconstruction error: 0.083893\n",
      "Epoch: 0 batch #: 72  of 200 sample #: 199 reconstruction error: 0.068208\n",
      "Epoch: 0 batch #: 73  of 200 sample #: 199 reconstruction error: 0.096878\n",
      "Epoch: 0 batch #: 74  of 200 sample #: 199 reconstruction error: 0.085566\n",
      "Epoch: 0 batch #: 75  of 200 sample #: 199 reconstruction error: 0.053345\n",
      "Epoch: 0 batch #: 76  of 200 sample #: 199 reconstruction error: 0.081232\n",
      "Epoch: 0 batch #: 77  of 200 sample #: 199 reconstruction error: 0.095187\n",
      "Epoch: 0 batch #: 78  of 200 sample #: 199 reconstruction error: 0.093945\n",
      "Epoch: 0 batch #: 79  of 200 sample #: 199 reconstruction error: 0.118891\n",
      "Epoch: 0 batch #: 80  of 200 sample #: 199 reconstruction error: 0.036668\n",
      "Epoch: 0 batch #: 81  of 200 sample #: 199 reconstruction error: 0.049544\n",
      "Epoch: 0 batch #: 82  of 200 sample #: 199 reconstruction error: 0.066346\n",
      "Epoch: 0 batch #: 83  of 200 sample #: 199 reconstruction error: 0.065145\n",
      "Epoch: 0 batch #: 84  of 200 sample #: 199 reconstruction error: 0.079178\n",
      "Epoch: 0 batch #: 85  of 200 sample #: 199 reconstruction error: 0.046263\n",
      "Epoch: 0 batch #: 86  of 200 sample #: 199 reconstruction error: 0.080947\n",
      "Epoch: 0 batch #: 87  of 200 sample #: 199 reconstruction error: 0.075390\n",
      "Epoch: 0 batch #: 88  of 200 sample #: 199 reconstruction error: 0.021549\n",
      "Epoch: 0 batch #: 89  of 200 sample #: 199 reconstruction error: 0.080947\n",
      "Epoch: 0 batch #: 90  of 200 sample #: 199 reconstruction error: 0.073884\n",
      "Epoch: 0 batch #: 91  of 200 sample #: 199 reconstruction error: 0.071175\n",
      "Epoch: 0 batch #: 92  of 200 sample #: 199 reconstruction error: 0.073797\n",
      "Epoch: 0 batch #: 93  of 200 sample #: 199 reconstruction error: 0.105774\n",
      "Epoch: 0 batch #: 94  of 200 sample #: 199 reconstruction error: 0.119277\n",
      "Epoch: 0 batch #: 95  of 200 sample #: 199 reconstruction error: 0.065921\n",
      "Epoch: 0 batch #: 96  of 200 sample #: 199 reconstruction error: 0.047793\n",
      "Epoch: 0 batch #: 97  of 200 sample #: 199 reconstruction error: 0.112583\n",
      "Epoch: 0 batch #: 98  of 200 sample #: 199 reconstruction error: 0.068136\n",
      "Epoch: 0 batch #: 99  of 200 sample #: 199 reconstruction error: 0.056485\n",
      "Epoch: 0 batch #: 100  of 200 sample #: 199 reconstruction error: 0.084973\n",
      "Epoch: 0 batch #: 101  of 200 sample #: 199 reconstruction error: 0.087968\n",
      "Epoch: 0 batch #: 102  of 200 sample #: 199 reconstruction error: 0.073598\n",
      "Epoch: 0 batch #: 103  of 200 sample #: 199 reconstruction error: 0.070866\n",
      "Epoch: 0 batch #: 104  of 200 sample #: 199 reconstruction error: 0.063770\n",
      "Epoch: 0 batch #: 105  of 200 sample #: 199 reconstruction error: 0.058300\n",
      "Epoch: 0 batch #: 106  of 200 sample #: 199 reconstruction error: 0.101255\n",
      "Epoch: 0 batch #: 107  of 200 sample #: 199 reconstruction error: 0.133486\n",
      "Epoch: 0 batch #: 108  of 200 sample #: 199 reconstruction error: 0.060769\n",
      "Epoch: 0 batch #: 109  of 200 sample #: 199 reconstruction error: 0.121865\n",
      "Epoch: 0 batch #: 110  of 200 sample #: 199 reconstruction error: 0.058271\n",
      "Epoch: 0 batch #: 111  of 200 sample #: 199 reconstruction error: 0.080289\n",
      "Epoch: 0 batch #: 112  of 200 sample #: 199 reconstruction error: 0.046243\n",
      "Epoch: 0 batch #: 113  of 200 sample #: 199 reconstruction error: 0.057082\n",
      "Epoch: 0 batch #: 114  of 200 sample #: 199 reconstruction error: 0.071688\n",
      "Epoch: 0 batch #: 115  of 200 sample #: 199 reconstruction error: 0.054173\n",
      "Epoch: 0 batch #: 116  of 200 sample #: 199 reconstruction error: 0.050365\n",
      "Epoch: 0 batch #: 117  of 200 sample #: 199 reconstruction error: 0.042242\n",
      "Epoch: 0 batch #: 118  of 200 sample #: 199 reconstruction error: 0.074316\n",
      "Epoch: 0 batch #: 119  of 200 sample #: 199 reconstruction error: 0.099909\n",
      "Epoch: 0 batch #: 120  of 200 sample #: 199 reconstruction error: 0.091147\n",
      "Epoch: 0 batch #: 121  of 200 sample #: 199 reconstruction error: 0.065832\n",
      "Epoch: 0 batch #: 122  of 200 sample #: 199 reconstruction error: 0.097501\n",
      "Epoch: 0 batch #: 123  of 200 sample #: 199 reconstruction error: 0.078078\n",
      "Epoch: 0 batch #: 124  of 200 sample #: 199 reconstruction error: 0.069972\n",
      "Epoch: 0 batch #: 125  of 200 sample #: 199 reconstruction error: 0.048403\n",
      "Epoch: 0 batch #: 126  of 200 sample #: 199 reconstruction error: 0.088964\n",
      "Epoch: 0 batch #: 127  of 200 sample #: 199 reconstruction error: 0.097198\n",
      "Epoch: 0 batch #: 128  of 200 sample #: 199 reconstruction error: 0.070072\n",
      "Epoch: 0 batch #: 129  of 200 sample #: 199 reconstruction error: 0.053856\n",
      "Epoch: 0 batch #: 130  of 200 sample #: 199 reconstruction error: 0.083727\n",
      "Epoch: 0 batch #: 131  of 200 sample #: 199 reconstruction error: 0.056594\n",
      "Epoch: 0 batch #: 132  of 200 sample #: 199 reconstruction error: 0.039643\n",
      "Epoch: 0 batch #: 133  of 200 sample #: 199 reconstruction error: 0.066179\n",
      "Epoch: 0 batch #: 134  of 200 sample #: 199 reconstruction error: 0.107397\n",
      "Epoch: 0 batch #: 135  of 200 sample #: 199 reconstruction error: 0.093278\n",
      "Epoch: 0 batch #: 136  of 200 sample #: 199 reconstruction error: 0.101459\n",
      "Epoch: 0 batch #: 137  of 200 sample #: 199 reconstruction error: 0.059462\n",
      "Epoch: 0 batch #: 138  of 200 sample #: 199 reconstruction error: 0.065074\n",
      "Epoch: 0 batch #: 139  of 200 sample #: 199 reconstruction error: 0.099155\n",
      "Epoch: 0 batch #: 140  of 200 sample #: 199 reconstruction error: 0.077672\n",
      "Epoch: 0 batch #: 141  of 200 sample #: 199 reconstruction error: 0.096886\n",
      "Epoch: 0 batch #: 142  of 200 sample #: 199 reconstruction error: 0.077457\n",
      "Epoch: 0 batch #: 143  of 200 sample #: 199 reconstruction error: 0.043471\n",
      "Epoch: 0 batch #: 144  of 200 sample #: 199 reconstruction error: 0.066472\n",
      "Epoch: 0 batch #: 145  of 200 sample #: 199 reconstruction error: 0.093602\n",
      "Epoch: 0 batch #: 146  of 200 sample #: 199 reconstruction error: 0.096387\n",
      "Epoch: 0 batch #: 147  of 200 sample #: 199 reconstruction error: 0.066979\n",
      "Epoch: 0 batch #: 148  of 200 sample #: 199 reconstruction error: 0.068937\n",
      "Epoch: 0 batch #: 149  of 200 sample #: 199 reconstruction error: 0.047569\n",
      "Epoch: 0 batch #: 150  of 200 sample #: 199 reconstruction error: 0.046641\n",
      "Epoch: 0 batch #: 151  of 200 sample #: 199 reconstruction error: 0.104216\n",
      "Epoch: 0 batch #: 152  of 200 sample #: 199 reconstruction error: 0.080703\n",
      "Epoch: 0 batch #: 153  of 200 sample #: 199 reconstruction error: 0.077459\n",
      "Epoch: 0 batch #: 154  of 200 sample #: 199 reconstruction error: 0.089393\n",
      "Epoch: 0 batch #: 155  of 200 sample #: 199 reconstruction error: 0.057306\n",
      "Epoch: 0 batch #: 156  of 200 sample #: 199 reconstruction error: 0.064212\n",
      "Epoch: 0 batch #: 157  of 200 sample #: 199 reconstruction error: 0.086096\n",
      "Epoch: 0 batch #: 158  of 200 sample #: 199 reconstruction error: 0.054678\n",
      "Epoch: 0 batch #: 159  of 200 sample #: 199 reconstruction error: 0.064428\n",
      "Epoch: 0 batch #: 160  of 200 sample #: 199 reconstruction error: 0.053606\n",
      "Epoch: 0 batch #: 161  of 200 sample #: 199 reconstruction error: 0.086536\n",
      "Epoch: 0 batch #: 162  of 200 sample #: 199 reconstruction error: 0.104245\n",
      "Epoch: 0 batch #: 163  of 200 sample #: 199 reconstruction error: 0.038146\n",
      "Epoch: 0 batch #: 164  of 200 sample #: 199 reconstruction error: 0.075799\n",
      "Epoch: 0 batch #: 165  of 200 sample #: 199 reconstruction error: 0.081380\n",
      "Epoch: 0 batch #: 166  of 200 sample #: 199 reconstruction error: 0.051657\n",
      "Epoch: 0 batch #: 167  of 200 sample #: 199 reconstruction error: 0.092116\n",
      "Epoch: 0 batch #: 168  of 200 sample #: 199 reconstruction error: 0.054989\n",
      "Epoch: 0 batch #: 169  of 200 sample #: 199 reconstruction error: 0.043133\n",
      "Epoch: 0 batch #: 170  of 200 sample #: 199 reconstruction error: 0.061174\n",
      "Epoch: 0 batch #: 171  of 200 sample #: 199 reconstruction error: 0.032787\n",
      "Epoch: 0 batch #: 172  of 200 sample #: 199 reconstruction error: 0.051792\n",
      "Epoch: 0 batch #: 173  of 200 sample #: 199 reconstruction error: 0.073394\n",
      "Epoch: 0 batch #: 174  of 200 sample #: 199 reconstruction error: 0.109929\n",
      "Epoch: 0 batch #: 175  of 200 sample #: 199 reconstruction error: 0.081017\n",
      "Epoch: 0 batch #: 176  of 200 sample #: 199 reconstruction error: 0.033071\n",
      "Epoch: 0 batch #: 177  of 200 sample #: 199 reconstruction error: 0.035387\n",
      "Epoch: 0 batch #: 178  of 200 sample #: 199 reconstruction error: 0.115204\n",
      "Epoch: 0 batch #: 179  of 200 sample #: 199 reconstruction error: 0.074074\n",
      "Epoch: 0 batch #: 180  of 200 sample #: 199 reconstruction error: 0.090694\n",
      "Epoch: 0 batch #: 181  of 200 sample #: 199 reconstruction error: 0.081652\n",
      "Epoch: 0 batch #: 182  of 200 sample #: 199 reconstruction error: 0.076501\n",
      "Epoch: 0 batch #: 183  of 200 sample #: 199 reconstruction error: 0.116377\n",
      "Epoch: 0 batch #: 184  of 200 sample #: 199 reconstruction error: 0.063523\n",
      "Epoch: 0 batch #: 185  of 200 sample #: 199 reconstruction error: 0.070992\n",
      "Epoch: 0 batch #: 186  of 200 sample #: 199 reconstruction error: 0.116379\n",
      "Epoch: 0 batch #: 187  of 200 sample #: 199 reconstruction error: 0.063000\n",
      "Epoch: 0 batch #: 188  of 200 sample #: 199 reconstruction error: 0.100381\n",
      "Epoch: 0 batch #: 189  of 200 sample #: 199 reconstruction error: 0.077236\n",
      "Epoch: 0 batch #: 190  of 200 sample #: 199 reconstruction error: 0.063558\n",
      "Epoch: 0 batch #: 191  of 200 sample #: 199 reconstruction error: 0.092268\n",
      "Epoch: 0 batch #: 192  of 200 sample #: 199 reconstruction error: 0.116838\n",
      "Epoch: 0 batch #: 193  of 200 sample #: 199 reconstruction error: 0.097882\n",
      "Epoch: 0 batch #: 194  of 200 sample #: 199 reconstruction error: 0.085261\n",
      "Epoch: 0 batch #: 195  of 200 sample #: 199 reconstruction error: 0.043532\n",
      "Epoch: 0 batch #: 196  of 200 sample #: 199 reconstruction error: 0.042966\n",
      "Epoch: 0 batch #: 197  of 200 sample #: 199 reconstruction error: 0.057011\n",
      "Epoch: 0 batch #: 198  of 200 sample #: 199 reconstruction error: 0.089999\n",
      "Epoch: 0 batch #: 199  of 200 sample #: 199 reconstruction error: 0.084061\n",
      "Epoch: 0 batch #: 200  of 200 sample #: 199 reconstruction error: 0.101411\n",
      "Epoch: 0 batch #: 201  of 200 sample #: 199 reconstruction error: 0.099756\n",
      "Epoch: 0 batch #: 202  of 200 sample #: 199 reconstruction error: 0.027403\n",
      "Epoch: 0 batch #: 203  of 200 sample #: 199 reconstruction error: 0.089696\n",
      "Epoch: 0 batch #: 204  of 200 sample #: 199 reconstruction error: 0.055341\n",
      "Epoch: 0 batch #: 205  of 200 sample #: 199 reconstruction error: 0.026848\n",
      "Epoch: 0 batch #: 206  of 200 sample #: 199 reconstruction error: 0.054979\n",
      "Epoch: 0 batch #: 207  of 200 sample #: 199 reconstruction error: 0.108849\n",
      "Epoch: 0 batch #: 208  of 200 sample #: 199 reconstruction error: 0.058092\n",
      "Epoch: 0 batch #: 209  of 200 sample #: 199 reconstruction error: 0.026819\n",
      "Epoch: 0 batch #: 210  of 200 sample #: 199 reconstruction error: 0.091659\n",
      "Epoch: 0 batch #: 211  of 200 sample #: 199 reconstruction error: 0.103219\n",
      "Epoch: 0 batch #: 212  of 200 sample #: 199 reconstruction error: 0.083912\n",
      "Epoch: 0 batch #: 213  of 200 sample #: 199 reconstruction error: 0.103909\n",
      "Epoch: 0 batch #: 214  of 200 sample #: 199 reconstruction error: 0.096692\n",
      "Epoch: 0 batch #: 215  of 200 sample #: 199 reconstruction error: 0.032148\n",
      "Epoch: 0 batch #: 216  of 200 sample #: 199 reconstruction error: 0.081204\n",
      "Epoch: 0 batch #: 217  of 200 sample #: 199 reconstruction error: 0.077199\n",
      "Epoch: 0 batch #: 218  of 200 sample #: 199 reconstruction error: 0.074559\n",
      "Epoch: 0 batch #: 219  of 200 sample #: 199 reconstruction error: 0.077884\n",
      "Epoch: 0 batch #: 220  of 200 sample #: 199 reconstruction error: 0.062642\n",
      "Epoch: 0 batch #: 221  of 200 sample #: 199 reconstruction error: 0.092040\n",
      "Epoch: 0 batch #: 222  of 200 sample #: 199 reconstruction error: 0.085226\n",
      "Epoch: 0 batch #: 223  of 200 sample #: 199 reconstruction error: 0.090870\n",
      "Epoch: 0 batch #: 224  of 200 sample #: 199 reconstruction error: 0.062200\n",
      "Epoch: 0 batch #: 225  of 200 sample #: 199 reconstruction error: 0.070973\n",
      "Epoch: 0 batch #: 226  of 200 sample #: 199 reconstruction error: 0.108770\n",
      "Epoch: 0 batch #: 227  of 200 sample #: 199 reconstruction error: 0.070073\n",
      "Epoch: 0 batch #: 228  of 200 sample #: 199 reconstruction error: 0.073233\n",
      "Epoch: 0 batch #: 229  of 200 sample #: 199 reconstruction error: 0.081087\n",
      "Epoch: 0 batch #: 230  of 200 sample #: 199 reconstruction error: 0.037735\n",
      "Epoch: 0 batch #: 231  of 200 sample #: 199 reconstruction error: 0.020502\n",
      "Epoch: 0 batch #: 232  of 200 sample #: 199 reconstruction error: 0.075841\n",
      "Epoch: 0 batch #: 233  of 200 sample #: 199 reconstruction error: 0.076858\n",
      "Epoch: 0 batch #: 234  of 200 sample #: 199 reconstruction error: 0.055618\n",
      "Epoch: 0 batch #: 235  of 200 sample #: 199 reconstruction error: 0.080179\n",
      "Epoch: 0 batch #: 236  of 200 sample #: 199 reconstruction error: 0.097465\n",
      "Epoch: 0 batch #: 237  of 200 sample #: 199 reconstruction error: 0.071727\n",
      "Epoch: 0 batch #: 238  of 200 sample #: 199 reconstruction error: 0.104861\n",
      "Epoch: 0 batch #: 239  of 200 sample #: 199 reconstruction error: 0.028110\n",
      "Epoch: 0 batch #: 240  of 200 sample #: 199 reconstruction error: 0.100577\n",
      "Epoch: 0 batch #: 241  of 200 sample #: 199 reconstruction error: 0.077814\n",
      "Epoch: 0 batch #: 242  of 200 sample #: 199 reconstruction error: 0.064963\n",
      "Epoch: 0 batch #: 243  of 200 sample #: 199 reconstruction error: 0.072001\n",
      "Epoch: 0 batch #: 244  of 200 sample #: 199 reconstruction error: 0.064982\n",
      "Epoch: 0 batch #: 245  of 200 sample #: 199 reconstruction error: 0.069486\n",
      "Epoch: 0 batch #: 246  of 200 sample #: 199 reconstruction error: 0.091781\n",
      "Epoch: 0 batch #: 247  of 200 sample #: 199 reconstruction error: 0.043889\n",
      "Epoch: 0 batch #: 248  of 200 sample #: 199 reconstruction error: 0.064781\n",
      "Epoch: 0 batch #: 249  of 200 sample #: 199 reconstruction error: 0.041454\n",
      "Epoch: 0 batch #: 250  of 200 sample #: 199 reconstruction error: 0.089662\n",
      "Epoch: 0 batch #: 251  of 200 sample #: 199 reconstruction error: 0.039187\n",
      "Epoch: 0 batch #: 252  of 200 sample #: 199 reconstruction error: 0.069797\n",
      "Epoch: 0 batch #: 253  of 200 sample #: 199 reconstruction error: 0.058676\n",
      "Epoch: 0 batch #: 254  of 200 sample #: 199 reconstruction error: 0.026832\n",
      "Epoch: 0 batch #: 255  of 200 sample #: 199 reconstruction error: 0.037891\n",
      "Epoch: 0 batch #: 256  of 200 sample #: 199 reconstruction error: 0.080036\n",
      "Epoch: 0 batch #: 257  of 200 sample #: 199 reconstruction error: 0.080360\n",
      "Epoch: 0 batch #: 258  of 200 sample #: 199 reconstruction error: 0.073022\n",
      "Epoch: 0 batch #: 259  of 200 sample #: 199 reconstruction error: 0.061488\n",
      "Epoch: 0 batch #: 260  of 200 sample #: 199 reconstruction error: 0.099704\n",
      "Epoch: 0 batch #: 261  of 200 sample #: 199 reconstruction error: 0.033557\n",
      "Epoch: 0 batch #: 262  of 200 sample #: 199 reconstruction error: 0.074817\n",
      "Epoch: 0 batch #: 263  of 200 sample #: 199 reconstruction error: 0.069819\n",
      "Epoch: 0 batch #: 264  of 200 sample #: 199 reconstruction error: 0.078551\n",
      "Epoch: 0 batch #: 265  of 200 sample #: 199 reconstruction error: 0.060550\n",
      "Epoch: 0 batch #: 266  of 200 sample #: 199 reconstruction error: 0.036349\n",
      "Epoch: 0 batch #: 267  of 200 sample #: 199 reconstruction error: 0.065670\n",
      "Epoch: 0 batch #: 268  of 200 sample #: 199 reconstruction error: 0.032978\n",
      "Epoch: 0 batch #: 269  of 200 sample #: 199 reconstruction error: 0.087638\n",
      "Epoch: 0 batch #: 270  of 200 sample #: 199 reconstruction error: 0.075834\n",
      "Epoch: 0 batch #: 271  of 200 sample #: 199 reconstruction error: 0.064786\n",
      "Epoch: 0 batch #: 272  of 200 sample #: 199 reconstruction error: 0.058920\n",
      "Epoch: 0 batch #: 273  of 200 sample #: 199 reconstruction error: 0.055037\n",
      "Epoch: 0 batch #: 274  of 200 sample #: 199 reconstruction error: 0.053006\n",
      "Epoch: 0 batch #: 275  of 200 sample #: 199 reconstruction error: 0.104743\n",
      "Epoch: 0 batch #: 276  of 200 sample #: 199 reconstruction error: 0.076022\n",
      "Epoch: 0 batch #: 277  of 200 sample #: 199 reconstruction error: 0.070788\n",
      "Epoch: 0 batch #: 278  of 200 sample #: 199 reconstruction error: 0.058264\n",
      "Epoch: 0 batch #: 279  of 200 sample #: 199 reconstruction error: 0.044473\n",
      "Epoch: 0 batch #: 280  of 200 sample #: 199 reconstruction error: 0.093130\n",
      "Epoch: 0 batch #: 281  of 200 sample #: 199 reconstruction error: 0.074744\n",
      "Epoch: 0 batch #: 282  of 200 sample #: 199 reconstruction error: 0.115795\n",
      "Epoch: 0 batch #: 283  of 200 sample #: 199 reconstruction error: 0.053784\n",
      "Epoch: 0 batch #: 284  of 200 sample #: 199 reconstruction error: 0.048166\n",
      "Epoch: 0 batch #: 285  of 200 sample #: 199 reconstruction error: 0.049699\n",
      "Epoch: 0 batch #: 286  of 200 sample #: 199 reconstruction error: 0.079462\n",
      "Epoch: 0 batch #: 287  of 200 sample #: 199 reconstruction error: 0.047170\n",
      "Epoch: 0 batch #: 288  of 200 sample #: 199 reconstruction error: 0.030919\n",
      "Epoch: 0 batch #: 289  of 200 sample #: 199 reconstruction error: 0.095101\n",
      "Epoch: 0 batch #: 290  of 200 sample #: 199 reconstruction error: 0.090380\n",
      "Epoch: 0 batch #: 291  of 200 sample #: 199 reconstruction error: 0.097914\n",
      "Epoch: 0 batch #: 292  of 200 sample #: 199 reconstruction error: 0.065010\n",
      "Epoch: 0 batch #: 293  of 200 sample #: 199 reconstruction error: 0.069565\n",
      "Epoch: 0 batch #: 294  of 200 sample #: 199 reconstruction error: 0.083191\n",
      "Epoch: 0 batch #: 295  of 200 sample #: 199 reconstruction error: 0.078979\n",
      "Epoch: 0 batch #: 296  of 200 sample #: 199 reconstruction error: 0.037678\n",
      "Epoch: 0 batch #: 297  of 200 sample #: 199 reconstruction error: 0.110999\n",
      "Epoch: 0 batch #: 298  of 200 sample #: 199 reconstruction error: 0.052117\n",
      "Epoch: 0 batch #: 299  of 200 sample #: 199 reconstruction error: 0.051356\n",
      "Epoch: 0 batch #: 300  of 200 sample #: 199 reconstruction error: 0.072586\n"
     ]
    }
   ],
   "source": [
    "#Parameters\n",
    "alpha = 0.01\n",
    "epochs = 1\n",
    "batchsize = 200\n",
    "weights = []\n",
    "errors = []\n",
    "batch_number = 0\n",
    "K = 1\n",
    "\n",
    "#creating datasets\n",
    "train_ds = \\\n",
    "    tf.data.Dataset.from_tensor_slices((trX, trY)).batch(batchsize)\n",
    "\n",
    "for epoch in range(epochs):\n",
    "    for batch_x, batch_y in train_ds:\n",
    "        batch_number += 1\n",
    "        for i_sample in range(batchsize):           \n",
    "            for k in range(K):\n",
    "                v0_state = batch_x[i_sample]\n",
    "                h0_state = hidden_layer(v0_state, W, hb)\n",
    "                v1_state = reconstructed_output(h0_state, W, vb)\n",
    "                h1_state = hidden_layer(v1_state, W, hb)\n",
    "\n",
    "                delta_W = tf.matmul(tf.transpose([v0_state]), h0_state) - tf.matmul(tf.transpose([v1_state]), h1_state)\n",
    "                W = W + alpha * delta_W\n",
    "\n",
    "                vb = vb + alpha * tf.reduce_mean(v0_state - v1_state, 0)\n",
    "                hb = hb + alpha * tf.reduce_mean(h0_state - h1_state, 0) \n",
    "\n",
    "                v0_state = v1_state\n",
    "\n",
    "            if i_sample == batchsize-1:\n",
    "                err = error(batch_x[i_sample], v1_state)\n",
    "                errors.append(err)\n",
    "                weights.append(W)\n",
    "                print ( 'Epoch: %d' % epoch, \n",
    "                       \"batch #: %i \" % batch_number, \n",
    "                       \"of %i\" % batchsize, \n",
    "                       \"sample #: %i\" % i_sample,\n",
    "                       'reconstruction error: %f' % err)\n"
   ]
  },
  {
   "cell_type": "markdown",
   "metadata": {},
   "source": [
    "Let's take a look at the errors at the end of each batch:\n"
   ]
  },
  {
   "cell_type": "code",
   "execution_count": 28,
   "metadata": {},
   "outputs": [
    {
     "data": {
      "image/png": "[encoded data removed]",
      "text/plain": [
       "<Figure size 432x288 with 1 Axes>"
      ]
     },
     "metadata": {
      "needs_background": "light"
     },
     "output_type": "display_data"
    }
   ],
   "source": [
    "plt.plot(errors)\n",
    "plt.xlabel(\"Batch Number\")\n",
    "plt.ylabel(\"Error\")\n",
    "plt.show()"
   ]
  },
  {
   "cell_type": "markdown",
   "metadata": {},
   "source": [
    "What is the final weight matrix $W$ after training?\n"
   ]
  },
  {
   "cell_type": "code",
   "execution_count": 29,
   "metadata": {},
   "outputs": [
    {
     "name": "stdout",
     "output_type": "stream",
     "text": [
      "[[-0.26000002 -0.4799998  -0.33999994 ... -0.10999998 -0.42999986\n",
      "  -0.41999987]\n",
      " [-0.28       -0.45999983 -0.29       ... -0.05999999 -0.5299998\n",
      "  -0.4999998 ]\n",
      " [-0.29999998 -0.43999985 -0.29999998 ... -0.08999999 -0.46999982\n",
      "  -0.5199998 ]\n",
      " ...\n",
      " [-0.28       -0.46999982 -0.28       ... -0.10999998 -0.43999985\n",
      "  -0.5099998 ]\n",
      " [-0.33999994 -0.4999998  -0.31999996 ... -0.09999999 -0.5099998\n",
      "  -0.4999998 ]\n",
      " [-0.34999993 -0.5199998  -0.34999993 ... -0.16       -0.5299998\n",
      "  -0.46999982]]\n"
     ]
    }
   ],
   "source": [
    "print(W.numpy()) # a weight matrix of shape (50,784)"
   ]
  },
  {
   "cell_type": "markdown",
   "metadata": {},
   "source": [
    "<a id=\"ref5\"></a>\n",
    "\n",
    "<h3>Learned features</h3> \n"
   ]
  },
  {
   "cell_type": "markdown",
   "metadata": {},
   "source": [
    "We can take each hidden unit and visualize the connections between that hidden unit and each element in the input vector. In our case, we have 50 hidden units. Lets visualize those.\n"
   ]
  },
  {
   "cell_type": "markdown",
   "metadata": {},
   "source": [
    "Let's plot the current weights:\n",
    "<b>tile_raster_images</b> helps in generating an easy to grasp image from a set of samples or weights. It transforms the <b>uw</b> (with one flattened image per row of size 784), into an array (of size $28\\\\times28$) in which images are reshaped and laid out like tiles on a floor.\n"
   ]
  },
  {
   "cell_type": "code",
   "execution_count": 30,
   "metadata": {},
   "outputs": [
    {
     "data": {
      "image/png": "[encoded data removed]",
      "text/plain": [
       "<Figure size 1296x1296 with 1 Axes>"
      ]
     },
     "metadata": {
      "needs_background": "light"
     },
     "output_type": "display_data"
    }
   ],
   "source": [
    "tile_raster_images(X=W.numpy().T, img_shape=(28, 28), tile_shape=(5, 10), tile_spacing=(1, 1))\n",
    "import matplotlib.pyplot as plt\n",
    "from PIL import Image\n",
    "%matplotlib inline\n",
    "image = Image.fromarray(tile_raster_images(X=W.numpy().T, img_shape=(28, 28) ,tile_shape=(5, 10), tile_spacing=(1, 1)))\n",
    "### Plot image\n",
    "plt.rcParams['figure.figsize'] = (18.0, 18.0)\n",
    "imgplot = plt.imshow(image)\n",
    "imgplot.set_cmap('gray')  "
   ]
  },
  {
   "cell_type": "markdown",
   "metadata": {},
   "source": [
    "Each tile in the above visualization corresponds to a vector of connections between a hidden unit and visible layer's units. \n"
   ]
  },
  {
   "cell_type": "markdown",
   "metadata": {},
   "source": [
    "Let's look at one of the learned weights corresponding to one of hidden units for example. In this particular square, the gray color represents weight = 0, and the whiter it is, the more positive the weights are (closer to 1). Conversely, the darker pixels are, the more negative the weights. The positive pixels will increase the probability of activation in hidden units (after multiplying by input/visible pixels), and negative pixels will decrease the probability of a unit hidden to be 1 (activated). So, why is this important?  So we can see that this specific square (hidden unit) can detect a feature (e.g. a \"/\" shape) and if it exists in the input.\n"
   ]
  },
  {
   "cell_type": "code",
   "execution_count": 31,
   "metadata": {},
   "outputs": [
    {
     "data": {
      "image/png": "[encoded data removed]",
      "text/plain": [
       "<Figure size 288x288 with 1 Axes>"
      ]
     },
     "metadata": {
      "needs_background": "light"
     },
     "output_type": "display_data"
    }
   ],
   "source": [
    "from PIL import Image\n",
    "image = Image.fromarray(tile_raster_images(X =W.numpy().T[10:11], img_shape=(28, 28),tile_shape=(1, 1), tile_spacing=(1, 1)))\n",
    "### Plot image\n",
    "plt.rcParams['figure.figsize'] = (4.0, 4.0)\n",
    "imgplot = plt.imshow(image)\n",
    "imgplot.set_cmap('gray')  "
   ]
  },
  {
   "cell_type": "markdown",
   "metadata": {},
   "source": [
    "Let's look at the reconstruction of an image now. Imagine that we have a destructed image of figure 3. Lets see if our trained network can fix it:\n",
    "\n",
    "First we plot the image:\n"
   ]
  },
  {
   "cell_type": "code",
   "execution_count": 32,
   "metadata": {},
   "outputs": [
    {
     "name": "stdout",
     "output_type": "stream",
     "text": [
      "--2020-11-07 23:30:47--  https://ibm.box.com/shared/static/vvm1b63uvuxq88vbw9znpwu5ol380mco.jpg\n",
      "Resolving ibm.box.com (ibm.box.com)... 107.152.27.197\n",
      "Connecting to ibm.box.com (ibm.box.com)|107.152.27.197|:443... connected.\n",
      "HTTP request sent, awaiting response... 301 Moved Permanently\n",
      "Location: /public/static/vvm1b63uvuxq88vbw9znpwu5ol380mco.jpg [following]\n",
      "--2020-11-07 23:30:47--  https://ibm.box.com/public/static/vvm1b63uvuxq88vbw9znpwu5ol380mco.jpg\n",
      "Reusing existing connection to ibm.box.com:443.\n",
      "HTTP request sent, awaiting response... 301 Moved Permanently\n",
      "Location: https://ibm.ent.box.com/public/static/vvm1b63uvuxq88vbw9znpwu5ol380mco.jpg [following]\n",
      "--2020-11-07 23:30:47--  https://ibm.ent.box.com/public/static/vvm1b63uvuxq88vbw9znpwu5ol380mco.jpg\n",
      "Resolving ibm.ent.box.com (ibm.ent.box.com)... 107.152.29.201\n",
      "Connecting to ibm.ent.box.com (ibm.ent.box.com)|107.152.29.201|:443... connected.\n",
      "HTTP request sent, awaiting response... 302 Found\n",
      "Location: https://public.boxcloud.com/d/1/b1!EVszVY731VF-A2Eq3SR5NQKW3V6xRyiTbPl3CXKLhwLnOzqBEz-WtuOVxkXnGFcq5FEVzCtJsio35DiSIeYmV-0lnWDZwB9SczfuT2hilbnp34rjbVdoCtzeUtUw4Qpi_xRDVU6xGzAyd6wq4l09F2mB6st9eCnARjhldqApD-0TcdwQ6ZhCtWFvTUypxTy6bNXBk4dJMQe_uGuX4GZ1ClV-bQCfDQtowO7lEVlDniae0HT-1H-6syqvS-umket_V5N0vHG7mOQ8_-fxA4BMwxH2BhmBeuP87l96N_m1pipMYETY70UaViu-sWMdCR1q7vFE4YDuh_kIYYRBahCYdppJ6fho6RDjpj26GY-I16FG8ZPjNc5WJCLm9R4_HxGU-JvXtmhGW2gyBJ083DAtd71rQv_Jn4zZ2jfeeq75BT2FtnleyDjWEIWFKBvT1GOSp7zShI5WPcHyIqOy5GwbW3z21NzoO37VIIacsCIQ9lGO9H3yR_BYEls5n0TFnMf5IUX-lCysBy2xnW-NwXT21InCBHrjqfxyjJIWK5PBFlZLsI0kZqcDrz1ixTdNh-a5_Eu8aWMjuTS7m7AhEiCvK7sa4E676Z2glWDsuE9Dz_YCJMkTjs21usnPkmJJPLwNeIWFUhyBY4VeiPoSbzY_hVQ9f8c8S_I6M2Gm5SY3zHH1oThA8N-3Is82K2H6MUbroTQzmgb5FDOeNFNtG5y52RWGEEpCAxMUK818roqjvgJqZQDuBh2eeyp0xvrwuudTYkjNyujgQ7loZ8YNZ_iMzk8YkZW8PPAEcoMYfthhy9OJdLI0nLPBASkSgqpLLSC0upCQFd8I9_ZQ5w5-i6uqos-_923sfzs7ea8N7Qc767hXrE93S6ey8Wx2Gp-94v3pejaERpOPOvisqhEtb0eSR6x-HGdTHbQz_z5EHIzSYvrMudy8txCoY10uB4s_AwtARY8R6QhVTyssfqwt1SSA-JCKOnxb3xzuLOlt7ojhMOg6_8oE_8G2sVF_OtYwB57ILYQengZn52L9zxd4YL0m9yOolWVR8m8XZ7xrQ2eitag1hb_-5v6MV8KCDYJJoW-yqdrV9lHfsloss0b15Qxj-W-KbGCnrIEiNYR4z8i1JDc9D_w2HMovT-5XheRJuHfrQytt9Ot9VycOPCKIqAPlijNoFPjQgXl80VCf8EdgA0_-uD7vobEBEbUCbdZlkJ3Oe6GSOwTQx7-tDA1DnnGqXYgA2wT0kMlMPXYJvi-SKkOQvjW9pojxVyHYlsEo_87DlUFT2lNpHhzRMD6TMc3EVmhR1WHGf4mvOrhCwTbyEIDgTlm2IZp3ESu_nrQj0o3tHsINF7wa2pEjAzwo-u9JAOcWwaPL5qtV_wqyXkApOFubJ6sxyr0dHu0gwbsbw3k5qJN59SjRoKjyISM93lWp5OHXs-pW/download [following]\n",
      "--2020-11-07 23:30:48--  https://public.boxcloud.com/d/1/b1!EVszVY731VF-A2Eq3SR5NQKW3V6xRyiTbPl3CXKLhwLnOzqBEz-WtuOVxkXnGFcq5FEVzCtJsio35DiSIeYmV-0lnWDZwB9SczfuT2hilbnp34rjbVdoCtzeUtUw4Qpi_xRDVU6xGzAyd6wq4l09F2mB6st9eCnARjhldqApD-0TcdwQ6ZhCtWFvTUypxTy6bNXBk4dJMQe_uGuX4GZ1ClV-bQCfDQtowO7lEVlDniae0HT-1H-6syqvS-umket_V5N0vHG7mOQ8_-fxA4BMwxH2BhmBeuP87l96N_m1pipMYETY70UaViu-sWMdCR1q7vFE4YDuh_kIYYRBahCYdppJ6fho6RDjpj26GY-I16FG8ZPjNc5WJCLm9R4_HxGU-JvXtmhGW2gyBJ083DAtd71rQv_Jn4zZ2jfeeq75BT2FtnleyDjWEIWFKBvT1GOSp7zShI5WPcHyIqOy5GwbW3z21NzoO37VIIacsCIQ9lGO9H3yR_BYEls5n0TFnMf5IUX-lCysBy2xnW-NwXT21InCBHrjqfxyjJIWK5PBFlZLsI0kZqcDrz1ixTdNh-a5_Eu8aWMjuTS7m7AhEiCvK7sa4E676Z2glWDsuE9Dz_YCJMkTjs21usnPkmJJPLwNeIWFUhyBY4VeiPoSbzY_hVQ9f8c8S_I6M2Gm5SY3zHH1oThA8N-3Is82K2H6MUbroTQzmgb5FDOeNFNtG5y52RWGEEpCAxMUK818roqjvgJqZQDuBh2eeyp0xvrwuudTYkjNyujgQ7loZ8YNZ_iMzk8YkZW8PPAEcoMYfthhy9OJdLI0nLPBASkSgqpLLSC0upCQFd8I9_ZQ5w5-i6uqos-_923sfzs7ea8N7Qc767hXrE93S6ey8Wx2Gp-94v3pejaERpOPOvisqhEtb0eSR6x-HGdTHbQz_z5EHIzSYvrMudy8txCoY10uB4s_AwtARY8R6QhVTyssfqwt1SSA-JCKOnxb3xzuLOlt7ojhMOg6_8oE_8G2sVF_OtYwB57ILYQengZn52L9zxd4YL0m9yOolWVR8m8XZ7xrQ2eitag1hb_-5v6MV8KCDYJJoW-yqdrV9lHfsloss0b15Qxj-W-KbGCnrIEiNYR4z8i1JDc9D_w2HMovT-5XheRJuHfrQytt9Ot9VycOPCKIqAPlijNoFPjQgXl80VCf8EdgA0_-uD7vobEBEbUCbdZlkJ3Oe6GSOwTQx7-tDA1DnnGqXYgA2wT0kMlMPXYJvi-SKkOQvjW9pojxVyHYlsEo_87DlUFT2lNpHhzRMD6TMc3EVmhR1WHGf4mvOrhCwTbyEIDgTlm2IZp3ESu_nrQj0o3tHsINF7wa2pEjAzwo-u9JAOcWwaPL5qtV_wqyXkApOFubJ6sxyr0dHu0gwbsbw3k5qJN59SjRoKjyISM93lWp5OHXs-pW/download\n",
      "Resolving public.boxcloud.com (public.boxcloud.com)... 107.152.27.200\n",
      "Connecting to public.boxcloud.com (public.boxcloud.com)|107.152.27.200|:443... connected.\n",
      "HTTP request sent, awaiting response... 200 OK\n",
      "Length: 24383 (24K) [image/jpeg]\n",
      "Saving to: ‘destructed3.jpg’\n",
      "\n",
      "destructed3.jpg     100%[===================>]  23.81K  --.-KB/s    in 0.01s   \n",
      "\n",
      "2020-11-07 23:30:48 (1.73 MB/s) - ‘destructed3.jpg’ saved [24383/24383]\n",
      "\n"
     ]
    },
    {
     "data": {
      "image/png": "[encoded data removed]",
      "text/plain": [
       "<PIL.JpegImagePlugin.JpegImageFile image mode=RGB size=181x181 at 0x7F78BC43BBE0>"
      ]
     },
     "execution_count": 32,
     "metadata": {},
     "output_type": "execute_result"
    }
   ],
   "source": [
    "!wget -O destructed3.jpg  https://ibm.box.com/shared/static/vvm1b63uvuxq88vbw9znpwu5ol380mco.jpg\n",
    "img = Image.open('destructed3.jpg')\n",
    "img"
   ]
  },
  {
   "cell_type": "markdown",
   "metadata": {},
   "source": [
    "Now let's pass this image through the neural net:\n"
   ]
  },
  {
   "cell_type": "code",
   "execution_count": 33,
   "metadata": {},
   "outputs": [],
   "source": [
    "# convert the image to a 1d numpy array\n",
    "sample_case = np.array(img.convert('I').resize((28,28))).ravel().reshape((1, -1))/255.0\n",
    "\n",
    "sample_case = tf.cast(sample_case, dtype=tf.float32)"
   ]
  },
  {
   "cell_type": "markdown",
   "metadata": {},
   "source": [
    "Feed the sample case into the network and reconstruct the output:\n"
   ]
  },
  {
   "cell_type": "code",
   "execution_count": 34,
   "metadata": {},
   "outputs": [
    {
     "name": "stdout",
     "output_type": "stream",
     "text": [
      "Probability nodes in hidden layer: tf.Tensor(\n",
      "[[3.6669216e-19 2.0908538e-01 3.6669931e-05 1.3416621e-01 9.9442625e-01\n",
      "  1.5312286e-09 1.0000000e+00 1.6199946e-03 3.1818043e-10 1.6759038e-03\n",
      "  1.2226105e-03 2.1503440e-01 9.9999917e-01 3.6053121e-01 1.0000000e+00\n",
      "  4.1326544e-05 1.0566007e-05 1.0000000e+00 2.3122468e-13 1.5764399e-05\n",
      "  1.1092660e-01 1.6671419e-04 7.6975702e-08 3.2195449e-04 3.5057781e-06\n",
      "  9.9999678e-01 9.9773192e-01 1.7198565e-06 3.0410975e-02 1.0000000e+00\n",
      "  3.0245569e-06 1.7595302e-14 9.9936980e-01 1.6767267e-08 7.1677954e-05\n",
      "  2.8277551e-13 6.9521219e-02 3.7917949e-16 1.0000000e+00 2.3190409e-02\n",
      "  6.6145975e-14 9.7645462e-01 9.6920550e-01 1.0000000e+00 3.0762294e-08\n",
      "  8.0590786e-12 1.0000000e+00 7.2145269e-16 9.8233771e-01 2.1615822e-06]], shape=(1, 50), dtype=float32)\n",
      "activated nodes in hidden layer: tf.Tensor(\n",
      "[[0. 0. 0. 0. 1. 0. 1. 0. 0. 0. 0. 0. 1. 0. 1. 0. 0. 1. 0. 0. 0. 0. 0. 0.\n",
      "  0. 1. 1. 0. 0. 1. 0. 0. 1. 0. 0. 0. 0. 0. 1. 0. 0. 1. 1. 1. 0. 0. 1. 0.\n",
      "  1. 0.]], shape=(1, 50), dtype=float32)\n",
      "tf.Tensor(\n",
      "[[7.23123550e-04 5.80370426e-04 1.05690956e-03 1.00550056e-03\n",
      "  5.25116920e-04 7.98970461e-04 7.52598047e-04 5.74618578e-04\n",
      "  7.83205032e-04 8.31633806e-04 6.87807798e-04 7.45058060e-04\n",
      "  6.51955605e-04 8.64863396e-04 6.87360764e-04 1.13633275e-03\n",
      "  7.60108232e-04 1.00550056e-03 1.05690956e-03 7.23123550e-04\n",
      "  6.80983067e-04 6.60866499e-04 7.23034143e-04 6.28679991e-04\n",
      "  6.81042671e-04 7.52598047e-04 6.47813082e-04 8.31633806e-04\n",
      "  7.83234835e-04 8.31633806e-04 6.54280186e-04 6.10053539e-04\n",
      "  9.59485769e-04 6.60955906e-04 4.57674265e-04 4.59730625e-04\n",
      "  9.03725624e-04 1.00672245e-03 9.60201025e-04 8.53896141e-04\n",
      "  8.90582800e-04 8.08924437e-04 7.10010529e-04 6.70075417e-04\n",
      "  1.02338195e-03 9.55581665e-04 1.08107924e-03 9.59932804e-04\n",
      "  6.36070967e-04 6.67035580e-04 6.76989555e-04 5.15580177e-04\n",
      "  7.98970461e-04 5.98013401e-04 7.60108232e-04 5.63204288e-04\n",
      "  6.60866499e-04 5.25116920e-04 6.38186932e-04 6.54608011e-04\n",
      "  9.68128443e-04 7.28547573e-04 7.20411539e-04 1.01786852e-03\n",
      "  9.32961702e-04 6.96361065e-04 6.20663166e-04 3.49730253e-04\n",
      "  3.33219767e-04 3.18646431e-04 3.49134207e-04 6.82413578e-04\n",
      "  3.12238932e-04 2.16722488e-04 1.87605619e-04 2.04086304e-04\n",
      "  1.95235014e-04 2.76297331e-04 5.65052032e-04 4.53591347e-04\n",
      "  6.88970089e-04 4.92155552e-04 9.37551260e-04 9.75728035e-04\n",
      "  5.41150570e-04 6.28679991e-04 5.51283360e-04 7.67081976e-04\n",
      "  8.34703445e-04 7.03573227e-04 1.02999806e-03 8.05109739e-04\n",
      "  4.49240208e-04 6.42746687e-04 4.07934189e-04 2.52842903e-04\n",
      "  3.51160765e-04 9.27060843e-04 1.61576271e-03 8.76873732e-04\n",
      "  1.84330344e-03 2.00363994e-03 1.21307373e-03 5.85466623e-04\n",
      "  9.39220190e-04 4.12404537e-04 2.66999006e-04 5.64157963e-04\n",
      "  8.40574503e-04 6.59734011e-04 8.73833895e-04 9.09864902e-04\n",
      "  9.66101885e-04 5.89907169e-04 9.05573368e-04 8.10682774e-04\n",
      "  1.66818500e-03 2.19175220e-03 2.65371799e-03 1.37010217e-03\n",
      "  1.59046054e-03 1.43373013e-03 2.57304311e-03 3.47211957e-03\n",
      "  4.84210253e-03 1.62844360e-02 2.68096328e-02 9.98837352e-02\n",
      "  1.37283891e-01 2.01442629e-01 1.20461881e-01 2.80899704e-02\n",
      "  7.74553418e-03 4.61238623e-03 2.93207169e-03 1.80026889e-03\n",
      "  2.83503532e-03 1.34670734e-03 7.40796328e-04 5.97298145e-04\n",
      "  5.46514988e-04 8.48352909e-04 7.77691603e-04 1.51437521e-03\n",
      "  3.36900353e-03 2.08762288e-03 7.95733929e-03 1.34172142e-02\n",
      "  2.10117698e-02 2.26053894e-02 4.77579236e-02 4.31184769e-02\n",
      "  1.19597793e-01 5.41664481e-01 8.02107573e-01 9.18128490e-01\n",
      "  9.43922997e-01 9.48420048e-01 8.21724534e-01 5.87201893e-01\n",
      "  2.26355046e-01 9.57016945e-02 4.04290557e-02 1.20131373e-02\n",
      "  3.39573622e-03 1.96835399e-03 2.26253271e-03 1.05932355e-03\n",
      "  6.81042671e-04 6.38216734e-04 8.46683979e-04 2.18001008e-03\n",
      "  8.42386484e-03 7.72669911e-03 1.10929608e-02 2.31997967e-02\n",
      "  5.04903197e-02 9.53568220e-02 1.46598846e-01 4.45685238e-01\n",
      "  6.87936664e-01 9.43528175e-01 9.79025960e-01 9.66383457e-01\n",
      "  9.87527966e-01 9.65167880e-01 9.57424998e-01 8.98219407e-01\n",
      "  6.85866058e-01 3.38080049e-01 1.05538011e-01 2.78486311e-02\n",
      "  1.47388875e-02 1.80700421e-03 1.98492408e-03 7.28875399e-04\n",
      "  5.49137592e-04 7.82966614e-04 1.52486563e-03 4.53081727e-03\n",
      "  7.72842765e-03 1.27409995e-02 2.05808580e-02 3.01178694e-02\n",
      "  7.12008178e-02 1.19993746e-01 1.86709851e-01 6.12242460e-01\n",
      "  8.91623020e-01 9.08261061e-01 9.35317934e-01 8.83239806e-01\n",
      "  8.40443254e-01 7.66123533e-01 7.03074217e-01 8.50974381e-01\n",
      "  7.96487212e-01 4.50451195e-01 1.65454745e-01 2.42935419e-02\n",
      "  5.15112281e-03 1.26987696e-03 9.78112221e-04 9.09745693e-04\n",
      "  5.49048185e-04 8.30858946e-04 1.32039189e-03 3.47521901e-03\n",
      "  6.58047199e-03 1.88238919e-02 2.37215757e-02 3.12596262e-02\n",
      "  3.95213366e-02 3.94609869e-02 1.87147379e-01 6.76038027e-01\n",
      "  7.95865059e-01 7.77631044e-01 6.50432885e-01 2.85187900e-01\n",
      "  2.55639374e-01 1.51784897e-01 1.90027148e-01 7.32476711e-01\n",
      "  8.33663762e-01 5.45942307e-01 1.32764965e-01 1.67427063e-02\n",
      "  2.03505158e-03 8.76396894e-04 1.17653608e-03 1.02949142e-03\n",
      "  8.53121281e-04 8.60780478e-04 1.09922886e-03 3.08755040e-03\n",
      "  5.46377897e-03 1.31440163e-02 1.26460791e-02 2.45207846e-02\n",
      "  2.90703475e-02 3.65052223e-02 1.72883928e-01 3.72246176e-01\n",
      "  5.12378752e-01 3.05987924e-01 6.40180111e-02 3.05758715e-02\n",
      "  1.89091265e-02 5.08959591e-02 2.36379266e-01 6.98744476e-01\n",
      "  8.32834542e-01 7.50317395e-01 1.69487238e-01 9.99122858e-03\n",
      "  2.56383419e-03 7.98612833e-04 1.18729472e-03 6.04063272e-04\n",
      "  7.76171684e-04 1.46603584e-03 1.26209855e-03 2.75698304e-03\n",
      "  7.67484307e-03 2.78699696e-02 3.21767628e-02 1.93617344e-02\n",
      "  9.87935066e-03 3.80954444e-02 1.05350494e-01 1.51445836e-01\n",
      "  1.46253735e-01 4.10699248e-02 1.42679513e-02 2.60948837e-02\n",
      "  8.01177919e-02 2.02920705e-01 5.63368857e-01 8.39223504e-01\n",
      "  9.32509661e-01 7.04187751e-01 1.11950457e-01 9.59748030e-03\n",
      "  2.62874365e-03 1.26168132e-03 1.29806995e-03 7.29978085e-04\n",
      "  7.03990459e-04 1.42419338e-03 1.92886591e-03 2.23398209e-03\n",
      "  1.47212148e-02 3.47062051e-02 3.51840854e-02 1.22531354e-02\n",
      "  6.18758798e-03 1.44374073e-02 3.83795500e-02 6.64531887e-02\n",
      "  7.92366564e-02 4.59580719e-02 6.06043637e-02 1.83228135e-01\n",
      "  5.00942469e-01 7.08881140e-01 7.74983823e-01 9.37168479e-01\n",
      "  8.01797509e-01 3.86141330e-01 2.63173282e-02 4.33415174e-03\n",
      "  1.55618787e-03 1.72305107e-03 1.37513876e-03 7.07805157e-04\n",
      "  1.03652477e-03 7.14123249e-04 1.61254406e-03 1.89056993e-03\n",
      "  1.11182332e-02 6.83458745e-02 4.51081395e-02 3.65926921e-02\n",
      "  1.20238066e-02 1.39089227e-02 3.57817113e-02 4.85430062e-02\n",
      "  2.93711334e-01 3.79831165e-01 7.71400690e-01 8.38716745e-01\n",
      "  8.99636984e-01 8.30696046e-01 8.06124210e-01 8.18207264e-01\n",
      "  5.32919884e-01 1.36962473e-01 1.41095817e-02 2.53558159e-03\n",
      "  2.05254555e-03 1.53294206e-03 8.63939524e-04 7.42375851e-04\n",
      "  8.40038061e-04 8.72433186e-04 1.14738941e-03 2.68188119e-03\n",
      "  1.05149448e-02 2.70634592e-02 4.96380627e-02 4.24036682e-02\n",
      "  2.81867981e-02 3.11227739e-02 4.90044951e-02 2.40464598e-01\n",
      "  7.58793950e-01 9.58885133e-01 9.43469644e-01 8.79743218e-01\n",
      "  8.44726443e-01 7.81666756e-01 8.13097417e-01 7.62688935e-01\n",
      "  2.30655193e-01 2.94822454e-02 8.07359815e-03 2.26625800e-03\n",
      "  7.43061304e-04 2.05665827e-03 8.31902027e-04 8.08328390e-04\n",
      "  8.05109739e-04 7.72297382e-04 9.58681107e-04 3.82626057e-03\n",
      "  7.19958544e-03 3.28394771e-02 7.15137124e-02 7.47708678e-02\n",
      "  4.67778146e-02 7.65167475e-02 1.97837234e-01 4.81728643e-01\n",
      "  8.45053196e-01 9.46196616e-01 9.51903343e-01 8.07168841e-01\n",
      "  6.65517449e-01 5.61019659e-01 5.54070771e-01 3.02872896e-01\n",
      "  1.11046046e-01 2.49528289e-02 1.63378119e-02 3.83886695e-03\n",
      "  1.61886215e-03 1.15495920e-03 8.47429037e-04 6.72101974e-04\n",
      "  6.48260117e-04 1.04677677e-03 1.26358867e-03 6.54572248e-03\n",
      "  1.23265088e-02 2.90934443e-02 5.65232933e-02 7.05465674e-02\n",
      "  3.65208685e-02 4.20112312e-02 1.29184723e-01 2.52188265e-01\n",
      "  6.22819424e-01 7.27878630e-01 5.59638441e-01 4.28221464e-01\n",
      "  3.05891514e-01 4.52084869e-01 3.12358201e-01 6.50521517e-02\n",
      "  1.91087425e-02 8.91104341e-03 4.85971570e-03 3.14199924e-03\n",
      "  1.40726566e-03 1.01679564e-03 7.84069300e-04 6.48319721e-04\n",
      "  7.68482685e-04 7.95692205e-04 1.61692500e-03 7.91004300e-03\n",
      "  3.10947597e-02 3.16970050e-02 1.12026572e-01 4.36648428e-02\n",
      "  2.58177221e-02 4.21759486e-03 1.20632052e-02 3.79499197e-02\n",
      "  9.24258232e-02 1.01358235e-01 7.40070343e-02 1.08634830e-01\n",
      "  3.66673172e-01 4.58353579e-01 1.96499914e-01 2.02892423e-02\n",
      "  7.60391355e-03 3.91027331e-03 9.34657454e-03 2.74381042e-03\n",
      "  2.37423182e-03 7.21961260e-04 7.00503588e-04 7.73727894e-04\n",
      "  6.54280186e-04 7.92264938e-04 2.89988518e-03 1.27182603e-02\n",
      "  7.50765502e-02 8.31009150e-02 1.13680243e-01 2.09537148e-02\n",
      "  3.90532613e-03 1.61093473e-03 2.02095509e-03 6.94134831e-03\n",
      "  1.58431530e-02 1.22850239e-02 2.87472010e-02 1.10883802e-01\n",
      "  3.95911098e-01 3.92781079e-01 1.16418511e-01 1.75567567e-02\n",
      "  9.31328535e-03 1.67537332e-02 9.99727845e-03 5.76367974e-03\n",
      "  3.76182795e-03 4.39614058e-04 7.91132450e-04 4.68194485e-04\n",
      "  5.01602888e-04 5.58108091e-04 4.18135524e-03 3.46651673e-02\n",
      "  2.30364382e-01 3.07330430e-01 2.66041636e-01 3.21132839e-02\n",
      "  2.86063552e-03 1.03369355e-03 1.31982565e-03 5.40769100e-03\n",
      "  6.17459416e-03 2.12824643e-02 5.10275066e-02 1.19958520e-01\n",
      "  4.70476180e-01 5.69630682e-01 9.96491015e-02 2.03183889e-02\n",
      "  1.20002329e-02 1.96917653e-02 3.70238423e-02 9.88987088e-03\n",
      "  3.37502360e-03 6.38335943e-04 8.66532326e-04 6.54608011e-04\n",
      "  6.06894493e-04 8.83787870e-04 4.17771935e-03 8.02805424e-02\n",
      "  4.00091827e-01 4.48920310e-01 3.61203969e-01 7.35462904e-02\n",
      "  1.30096376e-02 6.75526261e-03 4.80386615e-03 1.09612346e-02\n",
      "  1.21524632e-02 3.05905938e-02 2.66006291e-02 9.15977061e-02\n",
      "  4.34780061e-01 4.07460511e-01 2.34458089e-01 3.83033752e-02\n",
      "  2.44214833e-02 2.59830356e-02 2.30057538e-02 8.66851211e-03\n",
      "  2.71007419e-03 8.82029533e-04 1.12950802e-03 1.00460649e-03\n",
      "  5.63204288e-04 6.38544559e-04 5.33372164e-03 1.99935079e-01\n",
      "  5.40081799e-01 4.87443447e-01 3.24277848e-01 1.60592407e-01\n",
      "  9.10131633e-02 5.94956279e-02 4.02131081e-02 2.81062722e-02\n",
      "  2.23780572e-02 1.43359601e-02 1.71813071e-02 1.08482003e-01\n",
      "  4.56458211e-01 5.19128919e-01 1.65991694e-01 8.25248659e-02\n",
      "  5.11254668e-02 3.13253701e-02 2.11772621e-02 1.52627528e-02\n",
      "  4.36776876e-03 2.28923559e-03 1.59880519e-03 1.02746487e-03\n",
      "  8.76426697e-04 6.16878271e-04 5.13413548e-03 1.63772166e-01\n",
      "  5.05844176e-01 5.65032721e-01 4.55498189e-01 1.94927275e-01\n",
      "  2.97349274e-01 1.90824807e-01 1.74089938e-01 8.40405822e-02\n",
      "  6.08431101e-02 4.05034721e-02 9.77294743e-02 3.66453499e-01\n",
      "  6.04508162e-01 4.55832511e-01 2.44668603e-01 1.55762821e-01\n",
      "  8.52153897e-02 8.16288292e-02 2.63892412e-02 1.23133063e-02\n",
      "  9.28393006e-03 2.18829513e-03 8.15778971e-04 9.52005386e-04\n",
      "  6.82502985e-04 6.63161278e-04 2.56338716e-03 7.01985657e-02\n",
      "  2.90111244e-01 5.13755322e-01 5.46228290e-01 4.94771034e-01\n",
      "  5.59355676e-01 5.29289782e-01 4.79123265e-01 5.87727487e-01\n",
      "  4.16076958e-01 3.58325422e-01 4.19795334e-01 6.68390393e-01\n",
      "  6.65271223e-01 5.01013041e-01 3.91258359e-01 1.69226736e-01\n",
      "  1.01333171e-01 5.17319441e-02 1.65403783e-02 9.90605354e-03\n",
      "  4.24399972e-03 2.22712755e-03 1.07681751e-03 6.86675310e-04\n",
      "  7.23123550e-04 7.45117664e-04 1.95497274e-03 1.43442452e-02\n",
      "  8.34816098e-02 4.14608061e-01 3.75385880e-01 6.71302915e-01\n",
      "  7.71761715e-01 8.37864399e-01 8.69637728e-01 8.59006584e-01\n",
      "  8.30922127e-01 6.87156737e-01 6.15072370e-01 6.10652328e-01\n",
      "  5.91534078e-01 3.72062087e-01 3.42668712e-01 1.77233726e-01\n",
      "  7.37454891e-02 3.04773152e-02 1.03756189e-02 4.59387898e-03\n",
      "  2.96461582e-03 8.13990831e-04 8.53747129e-04 5.63174486e-04\n",
      "  6.22391701e-04 5.52058220e-04 8.45551491e-04 2.90656090e-03\n",
      "  2.07048059e-02 1.51357234e-01 3.45995933e-01 4.34578985e-01\n",
      "  6.12202466e-01 6.54665112e-01 6.36205077e-01 6.34376585e-01\n",
      "  4.40366179e-01 2.68810958e-01 1.43864125e-01 1.36969209e-01\n",
      "  1.90711945e-01 1.56010211e-01 1.02821261e-01 4.71298695e-02\n",
      "  1.68863535e-02 7.05945492e-03 3.39666009e-03 2.52944231e-03\n",
      "  1.07154250e-03 7.98225403e-04 6.45488501e-04 7.01725483e-04\n",
      "  5.98013401e-04 8.83042812e-04 9.50008631e-04 8.58336687e-04\n",
      "  2.45097280e-03 7.15932250e-03 1.53701901e-02 4.22027111e-02\n",
      "  3.05420458e-02 1.88708305e-02 8.78316164e-03 1.18455887e-02\n",
      "  5.14885783e-03 2.85995007e-03 5.56024909e-03 2.07869709e-02\n",
      "  3.42350602e-02 1.13183260e-02 8.89989734e-03 5.26189804e-03\n",
      "  5.10457158e-03 1.97321177e-03 2.29415298e-03 1.56271458e-03\n",
      "  1.31553411e-03 5.15848398e-04 5.87731600e-04 9.00804996e-04\n",
      "  6.16192818e-04 7.67707825e-04 6.74217939e-04 7.47621059e-04\n",
      "  1.12199783e-03 2.20426917e-03 3.17963958e-03 1.55106187e-03\n",
      "  1.15606189e-03 1.18988752e-03 8.29488039e-04 4.90128994e-04\n",
      "  2.14070082e-04 1.87426805e-04 4.12940979e-04 1.68454647e-03\n",
      "  3.90812755e-03 2.21011043e-03 2.31710076e-03 1.95947289e-03\n",
      "  2.95907259e-03 1.30346417e-03 1.00919604e-03 8.18103552e-04\n",
      "  7.66396523e-04 5.12778759e-04 6.47813082e-04 7.15792179e-04\n",
      "  6.16192818e-04 7.75426626e-04 7.37726688e-04 1.02582574e-03\n",
      "  7.30127096e-04 6.71803951e-04 1.13779306e-03 8.30024481e-04\n",
      "  1.41990185e-03 2.14153528e-03 1.67700648e-03 1.57335401e-03\n",
      "  8.81642103e-04 5.65171242e-04 1.04403496e-03 1.45819783e-03\n",
      "  1.88076496e-03 1.92904472e-03 1.13403797e-03 8.14437866e-04\n",
      "  7.09891319e-04 9.00685787e-04 7.52300024e-04 7.11292028e-04\n",
      "  6.81042671e-04 9.66101885e-04 8.65548849e-04 5.35756350e-04]], shape=(1, 784), dtype=float32)\n"
     ]
    }
   ],
   "source": [
    "hh0_p = tf.nn.sigmoid(tf.matmul(sample_case, W) + hb)\n",
    "hh0_s = tf.round(hh0_p)\n",
    "\n",
    "print(\"Probability nodes in hidden layer:\" ,hh0_p)\n",
    "print(\"activated nodes in hidden layer:\" ,hh0_s)\n",
    "\n",
    "# reconstruct\n",
    "vv1_p = tf.nn.sigmoid(tf.matmul(hh0_s, tf.transpose(W)) + vb)\n",
    "\n",
    "print(vv1_p)\n",
    "#rec_prob = sess.run(vv1_p, feed_dict={ hh0_s: hh0_s_val, W: prv_w, vb: prv_vb})"
   ]
  },
  {
   "cell_type": "markdown",
   "metadata": {},
   "source": [
    "Here we plot the reconstructed image:\n"
   ]
  },
  {
   "cell_type": "code",
   "execution_count": 35,
   "metadata": {},
   "outputs": [
    {
     "data": {
      "image/png": "[encoded data removed]",
      "text/plain": [
       "<Figure size 288x288 with 1 Axes>"
      ]
     },
     "metadata": {
      "needs_background": "light"
     },
     "output_type": "display_data"
    }
   ],
   "source": [
    "img = Image.fromarray(tile_raster_images(X=vv1_p.numpy(), img_shape=(28, 28),tile_shape=(1, 1), tile_spacing=(1, 1)))\n",
    "plt.rcParams['figure.figsize'] = (4.0, 4.0)\n",
    "imgplot = plt.imshow(img)\n",
    "imgplot.set_cmap('gray') "
   ]
  },
  {
   "cell_type": "markdown",
   "metadata": {},
   "source": [
    "<hr>\n",
    "\n",
    "## Want to learn more?\n",
    "\n",
    "Running deep learning programs usually needs a high performance platform. **PowerAI** speeds up deep learning and AI. Built on IBM’s Power Systems, **PowerAI** is a scalable software platform that accelerates deep learning and AI with blazing performance for individual users or enterprises. The **PowerAI** platform supports popular machine learning libraries and dependencies including TensorFlow, Caffe, Torch, and Theano. You can use [PowerAI on IMB Cloud](https://cocl.us/ML0120EN_PAI).\n",
    "\n",
    "Also, you can use **Watson Studio** to run these notebooks faster with bigger datasets.**Watson Studio** is IBM’s leading cloud solution for data scientists, built by data scientists. With Jupyter notebooks, RStudio, Apache Spark and popular libraries pre-packaged in the cloud, **Watson Studio** enables data scientists to collaborate on their projects without having to install anything. Join the fast-growing community of **Watson Studio** users today with a free account at [Watson Studio](https://cocl.us/ML0120EN_DSX).This is the end of this lesson. Thank you for reading this notebook, and good luck on your studies.\n"
   ]
  },
  {
   "cell_type": "markdown",
   "metadata": {},
   "source": [
    "### Thanks for completing this lesson!\n",
    "\n",
    "Notebook created by: <a href = \"https://ca.linkedin.com/in/saeedaghabozorgi\">Saeed Aghabozorgi</a>\n",
    "\n",
    "Updated to TF 2.X by  <a href=\"https://ca.linkedin.com/in/nilmeier\"> Jerome Nilmeier</a><br />\n"
   ]
  },
  {
   "cell_type": "markdown",
   "metadata": {},
   "source": [
    "### References:\n",
    "\n",
    "[https://en.wikipedia.org/wiki/Restricted_Boltzmann_machine](https://en.wikipedia.org/wiki/Restricted_Boltzmann_machine?cm_mmc=Email_Newsletter-_-Developer_Ed%2BTech-_-WW_WW-_-SkillsNetwork-Courses-IBMDeveloperSkillsNetwork-DL0120EN-SkillsNetwork-20629446&cm_mmca1=000026UJ&cm_mmca2=10006555&cm_mmca3=M12345678&cvosrc=email.Newsletter.M12345678&cvo_campaign=000026UJ)  \n",
    "[http://deeplearning.net/tutorial/rbm.html](http://deeplearning.net/tutorial/rbm.html?cm_mmc=Email_Newsletter-_-Developer_Ed%2BTech-_-WW_WW-_-SkillsNetwork-Courses-IBMDeveloperSkillsNetwork-DL0120EN-SkillsNetwork-20629446&cm_mmca1=000026UJ&cm_mmca2=10006555&cm_mmca3=M12345678&cvosrc=email.Newsletter.M12345678&cvo_campaign=000026UJ&cm_mmc=Email_Newsletter-_-Developer_Ed%2BTech-_-WW_WW-_-SkillsNetwork-Courses-IBMDeveloperSkillsNetwork-DL0120EN-SkillsNetwork-20629446&cm_mmca1=000026UJ&cm_mmca2=10006555&cm_mmca3=M12345678&cvosrc=email.Newsletter.M12345678&cvo_campaign=000026UJ)  \n",
    "[http://www.cs.utoronto.ca/~hinton/absps/netflixICML.pdf](http://www.cs.utoronto.ca/~hinton/absps/netflixICML.pdf?cm_mmc=Email_Newsletter-_-Developer_Ed%2BTech-_-WW_WW-_-SkillsNetwork-Courses-IBMDeveloperSkillsNetwork-DL0120EN-SkillsNetwork-20629446&cm_mmca1=000026UJ&cm_mmca2=10006555&cm_mmca3=M12345678&cvosrc=email.Newsletter.M12345678&cvo_campaign=000026UJ&cm_mmc=Email_Newsletter-_-Developer_Ed%2BTech-_-WW_WW-_-SkillsNetwork-Courses-IBMDeveloperSkillsNetwork-DL0120EN-SkillsNetwork-20629446&cm_mmca1=000026UJ&cm_mmca2=10006555&cm_mmca3=M12345678&cvosrc=email.Newsletter.M12345678&cvo_campaign=000026UJ)<br>\n",
    "<http://imonad.com/rbm/restricted-boltzmann-machine/>  \n"
   ]
  },
  {
   "cell_type": "markdown",
   "metadata": {},
   "source": [
    "<hr>\n",
    "\n",
    "Copyright © 2018 [Cognitive Class](https://cocl.us/DX0108EN_CC). This notebook and its source code are released under the terms of the [MIT License](https://bigdatauniversity.com/mit-license?cm_mmc=Email_Newsletter-_-Developer_Ed%2BTech-_-WW_WW-_-SkillsNetwork-Courses-IBMDeveloperSkillsNetwork-DL0120EN-SkillsNetwork-20629446&cm_mmca1=000026UJ&cm_mmca2=10006555&cm_mmca3=M12345678&cvosrc=email.Newsletter.M12345678&cvo_campaign=000026UJ&cm_mmc=Email_Newsletter-_-Developer_Ed%2BTech-_-WW_WW-_-SkillsNetwork-Courses-IBMDeveloperSkillsNetwork-DL0120EN-SkillsNetwork-20629446&cm_mmca1=000026UJ&cm_mmca2=10006555&cm_mmca3=M12345678&cvosrc=email.Newsletter.M12345678&cvo_campaign=000026UJ).\n"
   ]
  }
 ],
 "metadata": {
  "kernelspec": {
   "display_name": "Python",
   "language": "python",
   "name": "conda-env-python-py"
  },
  "language_info": {
   "codemirror_mode": {
    "name": "ipython",
    "version": 3
   },
   "file_extension": ".py",
   "mimetype": "text/x-python",
   "name": "python",
   "nbconvert_exporter": "python",
   "pygments_lexer": "ipython3",
   "version": "3.6.11"
  },
  "widgets": {
   "state": {},
   "version": "1.1.2"
  }
 },
 "nbformat": 4,
 "nbformat_minor": 4
}
